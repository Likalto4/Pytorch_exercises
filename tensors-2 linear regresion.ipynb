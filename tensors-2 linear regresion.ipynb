{
 "cells": [
  {
   "cell_type": "markdown",
   "id": "95f70225",
   "metadata": {
    "papermill": {
     "duration": 0.050432,
     "end_time": "2022-02-24T16:35:24.559974",
     "exception": false,
     "start_time": "2022-02-24T16:35:24.509542",
     "status": "completed"
    },
    "tags": []
   },
   "source": [
    "<center>\n",
    "    <img src=\"https://cf-courses-data.s3.us.cloud-object-storage.appdomain.cloud/IBMDeveloperSkillsNetwork-DL0110EN-SkillsNetwork/Template/module%201/images/IDSNlogo.png\" width=\"300\" alt=\"cognitiveclass.ai logo\"  />\n",
    "</center>\n"
   ]
  },
  {
   "cell_type": "markdown",
   "id": "a6312dc0",
   "metadata": {
    "papermill": {
     "duration": 0.047163,
     "end_time": "2022-02-24T16:35:24.654156",
     "exception": false,
     "start_time": "2022-02-24T16:35:24.606993",
     "status": "completed"
    },
    "tags": []
   },
   "source": [
    "<h1>Linear Regression 1D: Prediction</h1>\n"
   ]
  },
  {
   "cell_type": "markdown",
   "id": "90921665",
   "metadata": {
    "papermill": {
     "duration": 0.048388,
     "end_time": "2022-02-24T16:35:24.750719",
     "exception": false,
     "start_time": "2022-02-24T16:35:24.702331",
     "status": "completed"
    },
    "tags": []
   },
   "source": [
    "<h2>Objective</h2><ul><li> How to make the prediction for multiple inputs.</li><li> How to use linear class to build more complex models.</li><li> How to build a custom module.</li></ul> \n"
   ]
  },
  {
   "cell_type": "markdown",
   "id": "aa4afb59",
   "metadata": {
    "papermill": {
     "duration": 0.047117,
     "end_time": "2022-02-24T16:35:24.845726",
     "exception": false,
     "start_time": "2022-02-24T16:35:24.798609",
     "status": "completed"
    },
    "tags": []
   },
   "source": [
    "<h2>Table of Contents</h2>\n",
    "<p>In this lab, we will  review how to make a prediction in several different ways by using PyTorch.</h2>\n",
    "<ul>\n",
    "    <li><a href=\"https://#Prediction\">Prediction</a></li>\n",
    "    <li><a href=\"https://#Linear\">Class Linear</a></li>\n",
    "    <li><a href=\"https://#Cust\">Build Custom Modules</a></li>\n",
    "</ul>\n",
    "<p>Estimated Time Needed: <strong>15 min</strong></p>\n",
    "\n",
    "<hr>\n"
   ]
  },
  {
   "cell_type": "markdown",
   "id": "df9b1373",
   "metadata": {
    "papermill": {
     "duration": 0.046732,
     "end_time": "2022-02-24T16:35:24.940713",
     "exception": false,
     "start_time": "2022-02-24T16:35:24.893981",
     "status": "completed"
    },
    "tags": []
   },
   "source": [
    "<h2>Preparation</h2>\n"
   ]
  },
  {
   "cell_type": "markdown",
   "id": "40094bb8",
   "metadata": {
    "papermill": {
     "duration": 0.046451,
     "end_time": "2022-02-24T16:35:25.034255",
     "exception": false,
     "start_time": "2022-02-24T16:35:24.987804",
     "status": "completed"
    },
    "tags": []
   },
   "source": [
    "The following are the libraries we are going to use for this lab.\n"
   ]
  },
  {
   "cell_type": "code",
   "execution_count": 1,
   "id": "ac93e717",
   "metadata": {
    "execution": {
     "iopub.execute_input": "2022-02-24T16:35:25.145851Z",
     "iopub.status.busy": "2022-02-24T16:35:25.145409Z",
     "iopub.status.idle": "2022-02-24T16:35:26.270399Z",
     "shell.execute_reply": "2022-02-24T16:35:26.269816Z",
     "shell.execute_reply.started": "2022-02-24T16:02:15.694046Z"
    },
    "papermill": {
     "duration": 1.186064,
     "end_time": "2022-02-24T16:35:26.270525",
     "exception": false,
     "start_time": "2022-02-24T16:35:25.084461",
     "status": "completed"
    },
    "tags": []
   },
   "outputs": [],
   "source": [
    "# These are the libraries will be used for this lab.\n",
    "\n",
    "import torch"
   ]
  },
  {
   "cell_type": "markdown",
   "id": "5dbb1374",
   "metadata": {
    "papermill": {
     "duration": 0.045769,
     "end_time": "2022-02-24T16:35:26.362957",
     "exception": false,
     "start_time": "2022-02-24T16:35:26.317188",
     "status": "completed"
    },
    "tags": []
   },
   "source": [
    "<!--Empty Space for separating topics-->\n"
   ]
  },
  {
   "cell_type": "markdown",
   "id": "be17709b",
   "metadata": {
    "papermill": {
     "duration": 0.046549,
     "end_time": "2022-02-24T16:35:26.456967",
     "exception": false,
     "start_time": "2022-02-24T16:35:26.410418",
     "status": "completed"
    },
    "tags": []
   },
   "source": [
    "<h2 id=\"Prediction\">Prediction</h2>\n"
   ]
  },
  {
   "cell_type": "markdown",
   "id": "eec821d4",
   "metadata": {
    "papermill": {
     "duration": 0.04677,
     "end_time": "2022-02-24T16:35:26.551330",
     "exception": false,
     "start_time": "2022-02-24T16:35:26.504560",
     "status": "completed"
    },
    "tags": []
   },
   "source": [
    "Let us create the following expressions:\n"
   ]
  },
  {
   "cell_type": "markdown",
   "id": "fb8d3b70",
   "metadata": {
    "papermill": {
     "duration": 0.04714,
     "end_time": "2022-02-24T16:35:26.646153",
     "exception": false,
     "start_time": "2022-02-24T16:35:26.599013",
     "status": "completed"
    },
    "tags": []
   },
   "source": [
    "$b=-1,w=2$\n",
    "\n",
    "$\\hat{y}=-1+2x$\n"
   ]
  },
  {
   "cell_type": "markdown",
   "id": "43bb5859",
   "metadata": {
    "papermill": {
     "duration": 0.047131,
     "end_time": "2022-02-24T16:35:26.740722",
     "exception": false,
     "start_time": "2022-02-24T16:35:26.693591",
     "status": "completed"
    },
    "tags": []
   },
   "source": [
    "First, define the parameters:\n"
   ]
  },
  {
   "cell_type": "code",
   "execution_count": 2,
   "id": "16fac4bf",
   "metadata": {
    "execution": {
     "iopub.execute_input": "2022-02-24T16:35:26.846086Z",
     "iopub.status.busy": "2022-02-24T16:35:26.845485Z",
     "iopub.status.idle": "2022-02-24T16:35:26.848992Z",
     "shell.execute_reply": "2022-02-24T16:35:26.849422Z",
     "shell.execute_reply.started": "2022-02-24T16:15:52.098509Z"
    },
    "papermill": {
     "duration": 0.060293,
     "end_time": "2022-02-24T16:35:26.849570",
     "exception": false,
     "start_time": "2022-02-24T16:35:26.789277",
     "status": "completed"
    },
    "tags": []
   },
   "outputs": [],
   "source": [
    "# Define w = 2 and b = -1 for y = wx + b\n",
    "\n",
    "w = torch.tensor(2.0, requires_grad = True)\n",
    "b = torch.tensor(-1.0, requires_grad = True)"
   ]
  },
  {
   "cell_type": "markdown",
   "id": "89dd37ca",
   "metadata": {
    "papermill": {
     "duration": 0.046551,
     "end_time": "2022-02-24T16:35:26.942699",
     "exception": false,
     "start_time": "2022-02-24T16:35:26.896148",
     "status": "completed"
    },
    "tags": []
   },
   "source": [
    "Then, define the function <code>forward(x, w, b)</code> makes the prediction:\n"
   ]
  },
  {
   "cell_type": "code",
   "execution_count": 3,
   "id": "6f71cf73",
   "metadata": {
    "execution": {
     "iopub.execute_input": "2022-02-24T16:35:27.039145Z",
     "iopub.status.busy": "2022-02-24T16:35:27.038674Z",
     "iopub.status.idle": "2022-02-24T16:35:27.043435Z",
     "shell.execute_reply": "2022-02-24T16:35:27.042877Z",
     "shell.execute_reply.started": "2022-02-24T16:16:02.303594Z"
    },
    "papermill": {
     "duration": 0.054116,
     "end_time": "2022-02-24T16:35:27.043540",
     "exception": false,
     "start_time": "2022-02-24T16:35:26.989424",
     "status": "completed"
    },
    "tags": []
   },
   "outputs": [],
   "source": [
    "# Function forward(x) for prediction\n",
    "\n",
    "def forward(x):\n",
    "    yhat = w * x + b\n",
    "    return yhat"
   ]
  },
  {
   "cell_type": "markdown",
   "id": "fec30e16",
   "metadata": {
    "papermill": {
     "duration": 0.059017,
     "end_time": "2022-02-24T16:35:27.151524",
     "exception": false,
     "start_time": "2022-02-24T16:35:27.092507",
     "status": "completed"
    },
    "tags": []
   },
   "source": [
    "Let's make the following prediction at <i>x = 1</i>\n"
   ]
  },
  {
   "cell_type": "markdown",
   "id": "920c921b",
   "metadata": {
    "papermill": {
     "duration": 0.046572,
     "end_time": "2022-02-24T16:35:27.247577",
     "exception": false,
     "start_time": "2022-02-24T16:35:27.201005",
     "status": "completed"
    },
    "tags": []
   },
   "source": [
    "$\\hat{y}=-1+2x$\n",
    "\n",
    "$\\hat{y}=-1+2(1)$\n"
   ]
  },
  {
   "cell_type": "code",
   "execution_count": 4,
   "id": "a2bfdfb1",
   "metadata": {
    "execution": {
     "iopub.execute_input": "2022-02-24T16:35:27.344006Z",
     "iopub.status.busy": "2022-02-24T16:35:27.343554Z",
     "iopub.status.idle": "2022-02-24T16:35:27.415535Z",
     "shell.execute_reply": "2022-02-24T16:35:27.414944Z",
     "shell.execute_reply.started": "2022-02-24T16:16:06.782648Z"
    },
    "papermill": {
     "duration": 0.121431,
     "end_time": "2022-02-24T16:35:27.415652",
     "exception": false,
     "start_time": "2022-02-24T16:35:27.294221",
     "status": "completed"
    },
    "tags": []
   },
   "outputs": [
    {
     "name": "stdout",
     "output_type": "stream",
     "text": [
      "The prediction:  tensor([[1.]], grad_fn=<AddBackward0>)\n"
     ]
    }
   ],
   "source": [
    "# Predict y = 2x - 1 at x = 1\n",
    "\n",
    "x = torch.tensor([[1.0]])\n",
    "yhat = forward(x)\n",
    "print(\"The prediction: \", yhat)"
   ]
  },
  {
   "cell_type": "markdown",
   "id": "4f3ecd3d",
   "metadata": {
    "papermill": {
     "duration": 0.047167,
     "end_time": "2022-02-24T16:35:27.510506",
     "exception": false,
     "start_time": "2022-02-24T16:35:27.463339",
     "status": "completed"
    },
    "tags": []
   },
   "source": [
    "<!--Empty Space for separating topics-->\n"
   ]
  },
  {
   "cell_type": "markdown",
   "id": "f3874552",
   "metadata": {
    "papermill": {
     "duration": 0.047451,
     "end_time": "2022-02-24T16:35:27.606296",
     "exception": false,
     "start_time": "2022-02-24T16:35:27.558845",
     "status": "completed"
    },
    "tags": []
   },
   "source": [
    "Now, let us try to make the prediction for multiple inputs:\n"
   ]
  },
  {
   "cell_type": "markdown",
   "id": "4f45416f",
   "metadata": {
    "papermill": {
     "duration": 0.047385,
     "end_time": "2022-02-24T16:35:27.701525",
     "exception": false,
     "start_time": "2022-02-24T16:35:27.654140",
     "status": "completed"
    },
    "tags": []
   },
   "source": [
    "<img src=\"https://s3-api.us-geo.objectstorage.softlayer.net/cf-courses-data/CognitiveClass/DL0110EN/notebook_images%20/chapter2/2.1.2.png\" width=\"500\" alt=\"Linear Regression Multiple Input Samples\" />\n"
   ]
  },
  {
   "cell_type": "markdown",
   "id": "3053120d",
   "metadata": {
    "papermill": {
     "duration": 0.047509,
     "end_time": "2022-02-24T16:35:27.796712",
     "exception": false,
     "start_time": "2022-02-24T16:35:27.749203",
     "status": "completed"
    },
    "tags": []
   },
   "source": [
    "Let us construct the <code>x</code> tensor first. Check the shape of <code>x</code>.\n"
   ]
  },
  {
   "cell_type": "code",
   "execution_count": 5,
   "id": "762605b5",
   "metadata": {
    "execution": {
     "iopub.execute_input": "2022-02-24T16:35:27.895507Z",
     "iopub.status.busy": "2022-02-24T16:35:27.895041Z",
     "iopub.status.idle": "2022-02-24T16:35:27.900087Z",
     "shell.execute_reply": "2022-02-24T16:35:27.899240Z",
     "shell.execute_reply.started": "2022-02-24T16:16:13.216501Z"
    },
    "papermill": {
     "duration": 0.054586,
     "end_time": "2022-02-24T16:35:27.900287",
     "exception": false,
     "start_time": "2022-02-24T16:35:27.845701",
     "status": "completed"
    },
    "tags": []
   },
   "outputs": [
    {
     "name": "stdout",
     "output_type": "stream",
     "text": [
      "The shape of x:  torch.Size([2, 1])\n"
     ]
    }
   ],
   "source": [
    "# Create x Tensor and check the shape of x tensor\n",
    "\n",
    "x = torch.tensor([[1.0], [2.0]])\n",
    "print(\"The shape of x: \", x.shape)"
   ]
  },
  {
   "cell_type": "markdown",
   "id": "92bfc7f6",
   "metadata": {
    "papermill": {
     "duration": 0.047636,
     "end_time": "2022-02-24T16:35:27.996285",
     "exception": false,
     "start_time": "2022-02-24T16:35:27.948649",
     "status": "completed"
    },
    "tags": []
   },
   "source": [
    "Now make the prediction:\n"
   ]
  },
  {
   "cell_type": "code",
   "execution_count": 6,
   "id": "4419c26d",
   "metadata": {
    "execution": {
     "iopub.execute_input": "2022-02-24T16:35:28.094432Z",
     "iopub.status.busy": "2022-02-24T16:35:28.093902Z",
     "iopub.status.idle": "2022-02-24T16:35:28.100912Z",
     "shell.execute_reply": "2022-02-24T16:35:28.101630Z",
     "shell.execute_reply.started": "2022-02-24T16:16:46.262465Z"
    },
    "papermill": {
     "duration": 0.057945,
     "end_time": "2022-02-24T16:35:28.101799",
     "exception": false,
     "start_time": "2022-02-24T16:35:28.043854",
     "status": "completed"
    },
    "tags": []
   },
   "outputs": [
    {
     "name": "stdout",
     "output_type": "stream",
     "text": [
      "The prediction:  tensor([[1.],\n",
      "        [3.]], grad_fn=<AddBackward0>)\n"
     ]
    }
   ],
   "source": [
    "# Make the prediction of y = 2x - 1 at x = [1, 2]\n",
    "\n",
    "yhat = forward(x)\n",
    "print(\"The prediction: \", yhat)"
   ]
  },
  {
   "cell_type": "markdown",
   "id": "2a3b07a2",
   "metadata": {
    "papermill": {
     "duration": 0.046831,
     "end_time": "2022-02-24T16:35:28.196542",
     "exception": false,
     "start_time": "2022-02-24T16:35:28.149711",
     "status": "completed"
    },
    "tags": []
   },
   "source": [
    "The result is the same as what it is in the image above.\n"
   ]
  },
  {
   "cell_type": "markdown",
   "id": "977f24bd",
   "metadata": {
    "papermill": {
     "duration": 0.047943,
     "end_time": "2022-02-24T16:35:28.292302",
     "exception": false,
     "start_time": "2022-02-24T16:35:28.244359",
     "status": "completed"
    },
    "tags": []
   },
   "source": [
    "<!--Empty Space for separating topics-->\n"
   ]
  },
  {
   "cell_type": "markdown",
   "id": "f136a506",
   "metadata": {
    "papermill": {
     "duration": 0.047579,
     "end_time": "2022-02-24T16:35:28.388006",
     "exception": false,
     "start_time": "2022-02-24T16:35:28.340427",
     "status": "completed"
    },
    "tags": []
   },
   "source": [
    "<h3>Practice</h3>\n"
   ]
  },
  {
   "cell_type": "markdown",
   "id": "1ce5d1ec",
   "metadata": {
    "papermill": {
     "duration": 0.047365,
     "end_time": "2022-02-24T16:35:28.483816",
     "exception": false,
     "start_time": "2022-02-24T16:35:28.436451",
     "status": "completed"
    },
    "tags": []
   },
   "source": [
    "Make a prediction of the following <code>x</code> tensor using the <code>w</code> and <code>b</code> from above.\n"
   ]
  },
  {
   "cell_type": "code",
   "execution_count": 7,
   "id": "68626fb6",
   "metadata": {
    "execution": {
     "iopub.execute_input": "2022-02-24T16:35:28.584562Z",
     "iopub.status.busy": "2022-02-24T16:35:28.583590Z",
     "iopub.status.idle": "2022-02-24T16:35:28.588504Z",
     "shell.execute_reply": "2022-02-24T16:35:28.589247Z",
     "shell.execute_reply.started": "2022-02-24T16:17:46.783019Z"
    },
    "papermill": {
     "duration": 0.056887,
     "end_time": "2022-02-24T16:35:28.589464",
     "exception": false,
     "start_time": "2022-02-24T16:35:28.532577",
     "status": "completed"
    },
    "tags": []
   },
   "outputs": [
    {
     "name": "stdout",
     "output_type": "stream",
     "text": [
      "The new prediction is: tensor([[1.],\n",
      "        [3.],\n",
      "        [5.]], grad_fn=<AddBackward0>)\n"
     ]
    }
   ],
   "source": [
    "# Practice: Make a prediction of y = 2x - 1 at x = [[1.0], [2.0], [3.0]]\n",
    "\n",
    "x = torch.tensor([[1.0], [2.0], [3.0]])\n",
    "\n",
    "yhat2 = forward(x)\n",
    "\n",
    "print(\"The new prediction is:\",yhat2)"
   ]
  },
  {
   "cell_type": "markdown",
   "id": "c5fb8547",
   "metadata": {
    "papermill": {
     "duration": 0.048543,
     "end_time": "2022-02-24T16:35:28.686245",
     "exception": false,
     "start_time": "2022-02-24T16:35:28.637702",
     "status": "completed"
    },
    "tags": []
   },
   "source": [
    "Double-click <b>here</b> for the solution.\n",
    "\n",
    "<!-- Your answer is below:\n",
    "yhat = forward(x)\n",
    "print(\"The prediction: \", yhat)\n",
    "-->\n"
   ]
  },
  {
   "cell_type": "markdown",
   "id": "04ab024b",
   "metadata": {
    "papermill": {
     "duration": 0.048525,
     "end_time": "2022-02-24T16:35:28.783856",
     "exception": false,
     "start_time": "2022-02-24T16:35:28.735331",
     "status": "completed"
    },
    "tags": []
   },
   "source": [
    "<!--Empty Space for separating topics-->\n"
   ]
  },
  {
   "cell_type": "markdown",
   "id": "1021e540",
   "metadata": {
    "papermill": {
     "duration": 0.050155,
     "end_time": "2022-02-24T16:35:28.884683",
     "exception": false,
     "start_time": "2022-02-24T16:35:28.834528",
     "status": "completed"
    },
    "tags": []
   },
   "source": [
    "<h2 id=\"Linear\">Class Linear</h2>\n"
   ]
  },
  {
   "cell_type": "markdown",
   "id": "6cc6d376",
   "metadata": {
    "papermill": {
     "duration": 0.049758,
     "end_time": "2022-02-24T16:35:28.985095",
     "exception": false,
     "start_time": "2022-02-24T16:35:28.935337",
     "status": "completed"
    },
    "tags": []
   },
   "source": [
    "The linear class can be used to make a prediction. We can also use the linear class to build more complex models. Let's import the module:\n"
   ]
  },
  {
   "cell_type": "code",
   "execution_count": 8,
   "id": "15e6b521",
   "metadata": {
    "execution": {
     "iopub.execute_input": "2022-02-24T16:35:29.085870Z",
     "iopub.status.busy": "2022-02-24T16:35:29.085428Z",
     "iopub.status.idle": "2022-02-24T16:35:29.087856Z",
     "shell.execute_reply": "2022-02-24T16:35:29.088295Z",
     "shell.execute_reply.started": "2022-02-24T16:18:25.178619Z"
    },
    "papermill": {
     "duration": 0.054859,
     "end_time": "2022-02-24T16:35:29.088439",
     "exception": false,
     "start_time": "2022-02-24T16:35:29.033580",
     "status": "completed"
    },
    "tags": []
   },
   "outputs": [],
   "source": [
    "# Import Class Linear\n",
    "\n",
    "from torch.nn import Linear"
   ]
  },
  {
   "cell_type": "markdown",
   "id": "8c11a8c1",
   "metadata": {
    "papermill": {
     "duration": 0.048399,
     "end_time": "2022-02-24T16:35:29.185188",
     "exception": false,
     "start_time": "2022-02-24T16:35:29.136789",
     "status": "completed"
    },
    "tags": []
   },
   "source": [
    "Set the random seed because the parameters are randomly initialized:\n"
   ]
  },
  {
   "cell_type": "code",
   "execution_count": 9,
   "id": "f01bce50",
   "metadata": {
    "execution": {
     "iopub.execute_input": "2022-02-24T16:35:29.285190Z",
     "iopub.status.busy": "2022-02-24T16:35:29.284656Z",
     "iopub.status.idle": "2022-02-24T16:35:29.293433Z",
     "shell.execute_reply": "2022-02-24T16:35:29.293832Z",
     "shell.execute_reply.started": "2022-02-24T16:18:29.529135Z"
    },
    "papermill": {
     "duration": 0.060125,
     "end_time": "2022-02-24T16:35:29.293964",
     "exception": false,
     "start_time": "2022-02-24T16:35:29.233839",
     "status": "completed"
    },
    "tags": []
   },
   "outputs": [
    {
     "data": {
      "text/plain": [
       "<torch._C.Generator at 0x7efdbe0400d0>"
      ]
     },
     "execution_count": 9,
     "metadata": {},
     "output_type": "execute_result"
    }
   ],
   "source": [
    "# Set random seed\n",
    "\n",
    "torch.manual_seed(1)"
   ]
  },
  {
   "cell_type": "markdown",
   "id": "c53d7602",
   "metadata": {
    "papermill": {
     "duration": 0.048354,
     "end_time": "2022-02-24T16:35:29.391365",
     "exception": false,
     "start_time": "2022-02-24T16:35:29.343011",
     "status": "completed"
    },
    "tags": []
   },
   "source": [
    "<!--Empty Space for separating topics-->\n"
   ]
  },
  {
   "cell_type": "markdown",
   "id": "9dab7272",
   "metadata": {
    "papermill": {
     "duration": 0.048311,
     "end_time": "2022-02-24T16:35:29.489669",
     "exception": false,
     "start_time": "2022-02-24T16:35:29.441358",
     "status": "completed"
    },
    "tags": []
   },
   "source": [
    "Let us create the linear object by using the constructor. The parameters are randomly created. Let us print out to see what <i>w</i> and <i>b</i>. The parameters of an <code>torch.nn.Module</code> model are contained in the model’s parameters accessed with <code>lr.parameters()</code>:\n"
   ]
  },
  {
   "cell_type": "code",
   "execution_count": 10,
   "id": "5bafca27",
   "metadata": {
    "execution": {
     "iopub.execute_input": "2022-02-24T16:35:29.592908Z",
     "iopub.status.busy": "2022-02-24T16:35:29.592403Z",
     "iopub.status.idle": "2022-02-24T16:35:29.600167Z",
     "shell.execute_reply": "2022-02-24T16:35:29.600989Z",
     "shell.execute_reply.started": "2022-02-24T16:19:08.203809Z"
    },
    "papermill": {
     "duration": 0.062501,
     "end_time": "2022-02-24T16:35:29.601208",
     "exception": false,
     "start_time": "2022-02-24T16:35:29.538707",
     "status": "completed"
    },
    "tags": []
   },
   "outputs": [
    {
     "name": "stdout",
     "output_type": "stream",
     "text": [
      "Parameters w and b:  [Parameter containing:\n",
      "tensor([[0.5153]], requires_grad=True), Parameter containing:\n",
      "tensor([-0.4414], requires_grad=True)]\n"
     ]
    }
   ],
   "source": [
    "# Create Linear Regression Model, and print out the parameters\n",
    "\n",
    "lr = Linear(in_features=1, out_features=1, bias=True)\n",
    "print(\"Parameters w and b: \", list(lr.parameters()))\n"
   ]
  },
  {
   "cell_type": "markdown",
   "id": "2bd654a9",
   "metadata": {
    "papermill": {
     "duration": 0.074873,
     "end_time": "2022-02-24T16:35:29.752512",
     "exception": false,
     "start_time": "2022-02-24T16:35:29.677639",
     "status": "completed"
    },
    "tags": []
   },
   "source": [
    "This is equivalent to the following expression:\n"
   ]
  },
  {
   "cell_type": "markdown",
   "id": "be02c136",
   "metadata": {
    "papermill": {
     "duration": 0.075606,
     "end_time": "2022-02-24T16:35:29.903577",
     "exception": false,
     "start_time": "2022-02-24T16:35:29.827971",
     "status": "completed"
    },
    "tags": []
   },
   "source": [
    "$b=-0.44, w=0.5153$\n",
    "\n",
    "$\\hat{y}=-0.44+0.5153x$\n"
   ]
  },
  {
   "cell_type": "markdown",
   "id": "e032116b",
   "metadata": {
    "papermill": {
     "duration": 0.075393,
     "end_time": "2022-02-24T16:35:30.055560",
     "exception": false,
     "start_time": "2022-02-24T16:35:29.980167",
     "status": "completed"
    },
    "tags": []
   },
   "source": [
    "A method  <code>state_dict()</code> Returns a Python dictionary object corresponding to the layers of each parameter  tensor.\n"
   ]
  },
  {
   "cell_type": "code",
   "execution_count": 11,
   "id": "bafda60a",
   "metadata": {
    "execution": {
     "iopub.execute_input": "2022-02-24T16:35:30.207791Z",
     "iopub.status.busy": "2022-02-24T16:35:30.207196Z",
     "iopub.status.idle": "2022-02-24T16:35:30.215402Z",
     "shell.execute_reply": "2022-02-24T16:35:30.215884Z",
     "shell.execute_reply.started": "2022-02-24T16:20:03.283362Z"
    },
    "papermill": {
     "duration": 0.085497,
     "end_time": "2022-02-24T16:35:30.216066",
     "exception": false,
     "start_time": "2022-02-24T16:35:30.130569",
     "status": "completed"
    },
    "tags": []
   },
   "outputs": [
    {
     "name": "stdout",
     "output_type": "stream",
     "text": [
      "Python dictionary:  OrderedDict([('weight', tensor([[0.5153]])), ('bias', tensor([-0.4414]))])\n",
      "keys:  odict_keys(['weight', 'bias'])\n",
      "values:  odict_values([tensor([[0.5153]]), tensor([-0.4414])])\n"
     ]
    }
   ],
   "source": [
    "print(\"Python dictionary: \",lr.state_dict())\n",
    "print(\"keys: \",lr.state_dict().keys())\n",
    "print(\"values: \",lr.state_dict().values())"
   ]
  },
  {
   "cell_type": "markdown",
   "id": "915764f8",
   "metadata": {
    "papermill": {
     "duration": 0.075747,
     "end_time": "2022-02-24T16:35:30.368169",
     "exception": false,
     "start_time": "2022-02-24T16:35:30.292422",
     "status": "completed"
    },
    "tags": []
   },
   "source": [
    "The keys correspond to the name of the attributes and the values correspond to the parameter value.\n"
   ]
  },
  {
   "cell_type": "code",
   "execution_count": 12,
   "id": "70377e36",
   "metadata": {
    "execution": {
     "iopub.execute_input": "2022-02-24T16:35:30.526351Z",
     "iopub.status.busy": "2022-02-24T16:35:30.525676Z",
     "iopub.status.idle": "2022-02-24T16:35:30.529448Z",
     "shell.execute_reply": "2022-02-24T16:35:30.528745Z",
     "shell.execute_reply.started": "2022-02-24T16:20:54.723455Z"
    },
    "papermill": {
     "duration": 0.084915,
     "end_time": "2022-02-24T16:35:30.529601",
     "exception": false,
     "start_time": "2022-02-24T16:35:30.444686",
     "status": "completed"
    },
    "tags": []
   },
   "outputs": [
    {
     "name": "stdout",
     "output_type": "stream",
     "text": [
      "weight: Parameter containing:\n",
      "tensor([[0.5153]], requires_grad=True)\n",
      "bias: Parameter containing:\n",
      "tensor([-0.4414], requires_grad=True)\n"
     ]
    }
   ],
   "source": [
    "print(\"weight:\",lr.weight)\n",
    "print(\"bias:\",lr.bias)"
   ]
  },
  {
   "cell_type": "markdown",
   "id": "c38e422f",
   "metadata": {
    "papermill": {
     "duration": 0.077171,
     "end_time": "2022-02-24T16:35:30.685348",
     "exception": false,
     "start_time": "2022-02-24T16:35:30.608177",
     "status": "completed"
    },
    "tags": []
   },
   "source": [
    "Now let us make a single prediction at <i>x = \\[\\[1.0]]</i>.\n"
   ]
  },
  {
   "cell_type": "code",
   "execution_count": 13,
   "id": "2b3118de",
   "metadata": {
    "execution": {
     "iopub.execute_input": "2022-02-24T16:35:30.841614Z",
     "iopub.status.busy": "2022-02-24T16:35:30.840956Z",
     "iopub.status.idle": "2022-02-24T16:35:30.855613Z",
     "shell.execute_reply": "2022-02-24T16:35:30.855172Z",
     "shell.execute_reply.started": "2022-02-24T16:21:43.883126Z"
    },
    "papermill": {
     "duration": 0.093981,
     "end_time": "2022-02-24T16:35:30.855720",
     "exception": false,
     "start_time": "2022-02-24T16:35:30.761739",
     "status": "completed"
    },
    "tags": []
   },
   "outputs": [
    {
     "name": "stdout",
     "output_type": "stream",
     "text": [
      "The prediction:  tensor([[0.0739]], grad_fn=<AddmmBackward>)\n"
     ]
    }
   ],
   "source": [
    "# Make the prediction at x = [[1.0]]\n",
    "\n",
    "x = torch.tensor([[1.0]])\n",
    "yhat = lr(x)\n",
    "print(\"The prediction: \", yhat)"
   ]
  },
  {
   "cell_type": "markdown",
   "id": "10f9f0ff",
   "metadata": {
    "papermill": {
     "duration": 0.050926,
     "end_time": "2022-02-24T16:35:30.957063",
     "exception": false,
     "start_time": "2022-02-24T16:35:30.906137",
     "status": "completed"
    },
    "tags": []
   },
   "source": [
    "<!--Empty Space for separating topics-->\n"
   ]
  },
  {
   "cell_type": "markdown",
   "id": "83dcbc1f",
   "metadata": {
    "papermill": {
     "duration": 0.049841,
     "end_time": "2022-02-24T16:35:31.057732",
     "exception": false,
     "start_time": "2022-02-24T16:35:31.007891",
     "status": "completed"
    },
    "tags": []
   },
   "source": [
    "Similarly, you can make multiple predictions:\n"
   ]
  },
  {
   "cell_type": "markdown",
   "id": "8f11a856",
   "metadata": {
    "papermill": {
     "duration": 0.049547,
     "end_time": "2022-02-24T16:35:31.157622",
     "exception": false,
     "start_time": "2022-02-24T16:35:31.108075",
     "status": "completed"
    },
    "tags": []
   },
   "source": [
    "<img src=\"https://s3-api.us-geo.objectstorage.softlayer.net/cf-courses-data/CognitiveClass/DL0110EN/notebook_images%20/chapter2/2.1.2vector_function.png\" width=\"500\" alt=\"Linear Class Sample with Multiple Inputs\" />\n"
   ]
  },
  {
   "cell_type": "markdown",
   "id": "28490f88",
   "metadata": {
    "papermill": {
     "duration": 0.050192,
     "end_time": "2022-02-24T16:35:31.258432",
     "exception": false,
     "start_time": "2022-02-24T16:35:31.208240",
     "status": "completed"
    },
    "tags": []
   },
   "source": [
    "Use model <code>lr(x)</code> to predict the result.\n"
   ]
  },
  {
   "cell_type": "code",
   "execution_count": 14,
   "id": "169c024e",
   "metadata": {
    "execution": {
     "iopub.execute_input": "2022-02-24T16:35:31.361386Z",
     "iopub.status.busy": "2022-02-24T16:35:31.360888Z",
     "iopub.status.idle": "2022-02-24T16:35:31.365962Z",
     "shell.execute_reply": "2022-02-24T16:35:31.366448Z",
     "shell.execute_reply.started": "2022-02-24T16:21:52.483834Z"
    },
    "papermill": {
     "duration": 0.057743,
     "end_time": "2022-02-24T16:35:31.366574",
     "exception": false,
     "start_time": "2022-02-24T16:35:31.308831",
     "status": "completed"
    },
    "tags": []
   },
   "outputs": [
    {
     "name": "stdout",
     "output_type": "stream",
     "text": [
      "The prediction:  tensor([[0.0739],\n",
      "        [0.5891]], grad_fn=<AddmmBackward>)\n"
     ]
    }
   ],
   "source": [
    "# Create the prediction using linear model\n",
    "\n",
    "x = torch.tensor([[1.0], [2.0]])\n",
    "yhat = lr(x)\n",
    "print(\"The prediction: \", yhat)"
   ]
  },
  {
   "cell_type": "markdown",
   "id": "86b69d7e",
   "metadata": {
    "papermill": {
     "duration": 0.050822,
     "end_time": "2022-02-24T16:35:31.467515",
     "exception": false,
     "start_time": "2022-02-24T16:35:31.416693",
     "status": "completed"
    },
    "tags": []
   },
   "source": [
    "<!--Empty Space for separating topics-->\n"
   ]
  },
  {
   "cell_type": "markdown",
   "id": "0aa8c524",
   "metadata": {
    "papermill": {
     "duration": 0.051059,
     "end_time": "2022-02-24T16:35:31.569351",
     "exception": false,
     "start_time": "2022-02-24T16:35:31.518292",
     "status": "completed"
    },
    "tags": []
   },
   "source": [
    "<h3>Practice</h3>\n"
   ]
  },
  {
   "cell_type": "markdown",
   "id": "c70f0646",
   "metadata": {
    "papermill": {
     "duration": 0.051126,
     "end_time": "2022-02-24T16:35:31.671825",
     "exception": false,
     "start_time": "2022-02-24T16:35:31.620699",
     "status": "completed"
    },
    "tags": []
   },
   "source": [
    "Make a prediction of the following <code>x</code> tensor using the linear regression model <code>lr</code>.\n"
   ]
  },
  {
   "cell_type": "code",
   "execution_count": 15,
   "id": "dc6766f7",
   "metadata": {
    "execution": {
     "iopub.execute_input": "2022-02-24T16:35:31.777540Z",
     "iopub.status.busy": "2022-02-24T16:35:31.777034Z",
     "iopub.status.idle": "2022-02-24T16:35:31.782421Z",
     "shell.execute_reply": "2022-02-24T16:35:31.782859Z",
     "shell.execute_reply.started": "2022-02-24T16:22:25.524413Z"
    },
    "papermill": {
     "duration": 0.059784,
     "end_time": "2022-02-24T16:35:31.782966",
     "exception": false,
     "start_time": "2022-02-24T16:35:31.723182",
     "status": "completed"
    },
    "tags": []
   },
   "outputs": [
    {
     "name": "stdout",
     "output_type": "stream",
     "text": [
      "The new prediction is: tensor([[0.0739],\n",
      "        [0.5891],\n",
      "        [1.1044]], grad_fn=<AddmmBackward>)\n"
     ]
    }
   ],
   "source": [
    "# Practice: Use the linear regression model object lr to make the prediction.\n",
    "\n",
    "x = torch.tensor([[1.0],[2.0],[3.0]])\n",
    "\n",
    "yhat2 = lr(x);\n",
    "\n",
    "print(\"The new prediction is:\",yhat2)"
   ]
  },
  {
   "cell_type": "markdown",
   "id": "4624975a",
   "metadata": {
    "papermill": {
     "duration": 0.050288,
     "end_time": "2022-02-24T16:35:31.884871",
     "exception": false,
     "start_time": "2022-02-24T16:35:31.834583",
     "status": "completed"
    },
    "tags": []
   },
   "source": [
    "Double-click <b>here</b> for the solution.\n",
    "\n",
    "<!-- Your answer is below:\n",
    "x=torch.tensor([[1.0],[2.0],[3.0]])\n",
    "yhat = lr(x)\n",
    "print(\"The prediction: \", yhat)\n",
    "-->\n"
   ]
  },
  {
   "cell_type": "markdown",
   "id": "0255ed45",
   "metadata": {
    "papermill": {
     "duration": 0.050436,
     "end_time": "2022-02-24T16:35:31.985981",
     "exception": false,
     "start_time": "2022-02-24T16:35:31.935545",
     "status": "completed"
    },
    "tags": []
   },
   "source": [
    "<!--Empty Space for separating topics-->\n"
   ]
  },
  {
   "cell_type": "markdown",
   "id": "b9e58d6f",
   "metadata": {
    "papermill": {
     "duration": 0.050144,
     "end_time": "2022-02-24T16:35:32.086198",
     "exception": false,
     "start_time": "2022-02-24T16:35:32.036054",
     "status": "completed"
    },
    "tags": []
   },
   "source": [
    "<h2 id=\"Cust\">Build Custom Modules</h2>\n"
   ]
  },
  {
   "cell_type": "markdown",
   "id": "a1d2be77",
   "metadata": {
    "papermill": {
     "duration": 0.050378,
     "end_time": "2022-02-24T16:35:32.186869",
     "exception": false,
     "start_time": "2022-02-24T16:35:32.136491",
     "status": "completed"
    },
    "tags": []
   },
   "source": [
    "Now, let's build a custom module. We can make more complex models by using this method later on.\n"
   ]
  },
  {
   "cell_type": "markdown",
   "id": "9f9f5311",
   "metadata": {
    "papermill": {
     "duration": 0.050211,
     "end_time": "2022-02-24T16:35:32.287925",
     "exception": false,
     "start_time": "2022-02-24T16:35:32.237714",
     "status": "completed"
    },
    "tags": []
   },
   "source": [
    "First, import the following library.\n"
   ]
  },
  {
   "cell_type": "code",
   "execution_count": 16,
   "id": "f431408c",
   "metadata": {
    "execution": {
     "iopub.execute_input": "2022-02-24T16:35:32.392684Z",
     "iopub.status.busy": "2022-02-24T16:35:32.392071Z",
     "iopub.status.idle": "2022-02-24T16:35:32.394277Z",
     "shell.execute_reply": "2022-02-24T16:35:32.394848Z",
     "shell.execute_reply.started": "2022-02-24T16:22:54.323900Z"
    },
    "papermill": {
     "duration": 0.056206,
     "end_time": "2022-02-24T16:35:32.394998",
     "exception": false,
     "start_time": "2022-02-24T16:35:32.338792",
     "status": "completed"
    },
    "tags": []
   },
   "outputs": [],
   "source": [
    "# Library for this section\n",
    "\n",
    "from torch import nn"
   ]
  },
  {
   "cell_type": "markdown",
   "id": "187383fe",
   "metadata": {
    "papermill": {
     "duration": 0.078155,
     "end_time": "2022-02-24T16:35:32.551570",
     "exception": false,
     "start_time": "2022-02-24T16:35:32.473415",
     "status": "completed"
    },
    "tags": []
   },
   "source": [
    "Now, let us define the class:\n"
   ]
  },
  {
   "cell_type": "code",
   "execution_count": 17,
   "id": "09a13403",
   "metadata": {
    "execution": {
     "iopub.execute_input": "2022-02-24T16:35:32.712986Z",
     "iopub.status.busy": "2022-02-24T16:35:32.712386Z",
     "iopub.status.idle": "2022-02-24T16:35:32.716261Z",
     "shell.execute_reply": "2022-02-24T16:35:32.716793Z",
     "shell.execute_reply.started": "2022-02-24T16:29:56.696613Z"
    },
    "papermill": {
     "duration": 0.086051,
     "end_time": "2022-02-24T16:35:32.716947",
     "exception": false,
     "start_time": "2022-02-24T16:35:32.630896",
     "status": "completed"
    },
    "tags": []
   },
   "outputs": [],
   "source": [
    "# Customize Linear Regression Class\n",
    "\n",
    "class LR(nn.Module):\n",
    "    \n",
    "    # Constructor\n",
    "    def __init__(self, input_size, output_size):\n",
    "        \n",
    "        # Inherit from parent\n",
    "        super().__init__()\n",
    "        self.linear = nn.Linear(input_size, output_size)\n",
    "    \n",
    "    # Prediction function\n",
    "    def forward(self, x):\n",
    "        out = self.linear(x)\n",
    "        return out"
   ]
  },
  {
   "cell_type": "markdown",
   "id": "34a1677e",
   "metadata": {
    "papermill": {
     "duration": 0.078348,
     "end_time": "2022-02-24T16:35:32.873952",
     "exception": false,
     "start_time": "2022-02-24T16:35:32.795604",
     "status": "completed"
    },
    "tags": []
   },
   "source": [
    "Create an object by using the constructor. Print out the parameters we get and the model.\n"
   ]
  },
  {
   "cell_type": "code",
   "execution_count": 18,
   "id": "56428d87",
   "metadata": {
    "execution": {
     "iopub.execute_input": "2022-02-24T16:35:33.035846Z",
     "iopub.status.busy": "2022-02-24T16:35:33.035203Z",
     "iopub.status.idle": "2022-02-24T16:35:33.038998Z",
     "shell.execute_reply": "2022-02-24T16:35:33.038459Z",
     "shell.execute_reply.started": "2022-02-24T16:32:23.536262Z"
    },
    "papermill": {
     "duration": 0.087176,
     "end_time": "2022-02-24T16:35:33.039140",
     "exception": false,
     "start_time": "2022-02-24T16:35:32.951964",
     "status": "completed"
    },
    "tags": []
   },
   "outputs": [
    {
     "name": "stdout",
     "output_type": "stream",
     "text": [
      "The parameters:  [Parameter containing:\n",
      "tensor([[-0.1939]], requires_grad=True), Parameter containing:\n",
      "tensor([0.4694], requires_grad=True)]\n",
      "Linear model:  Linear(in_features=1, out_features=1, bias=True)\n"
     ]
    }
   ],
   "source": [
    "# Create the linear regression model. Print out the parameters.\n",
    "\n",
    "lr = LR(1, 1)\n",
    "print(\"The parameters: \", list(lr.parameters()))\n",
    "print(\"Linear model: \", lr.linear)"
   ]
  },
  {
   "cell_type": "markdown",
   "id": "a1bc0743",
   "metadata": {
    "papermill": {
     "duration": 0.051257,
     "end_time": "2022-02-24T16:35:33.141675",
     "exception": false,
     "start_time": "2022-02-24T16:35:33.090418",
     "status": "completed"
    },
    "tags": []
   },
   "source": [
    "<!--Empty Space for separating topics-->\n"
   ]
  },
  {
   "cell_type": "markdown",
   "id": "7bd51498",
   "metadata": {
    "papermill": {
     "duration": 0.051287,
     "end_time": "2022-02-24T16:35:33.244052",
     "exception": false,
     "start_time": "2022-02-24T16:35:33.192765",
     "status": "completed"
    },
    "tags": []
   },
   "source": [
    "Let us try to make a prediction of a single input sample.\n"
   ]
  },
  {
   "cell_type": "code",
   "execution_count": 19,
   "id": "a6d4eaaa",
   "metadata": {
    "execution": {
     "iopub.execute_input": "2022-02-24T16:35:33.348838Z",
     "iopub.status.busy": "2022-02-24T16:35:33.348379Z",
     "iopub.status.idle": "2022-02-24T16:35:33.354905Z",
     "shell.execute_reply": "2022-02-24T16:35:33.354526Z",
     "shell.execute_reply.started": "2022-02-24T16:32:34.606338Z"
    },
    "papermill": {
     "duration": 0.06016,
     "end_time": "2022-02-24T16:35:33.355009",
     "exception": false,
     "start_time": "2022-02-24T16:35:33.294849",
     "status": "completed"
    },
    "tags": []
   },
   "outputs": [
    {
     "name": "stdout",
     "output_type": "stream",
     "text": [
      "The prediction:  tensor([[0.2755]], grad_fn=<AddmmBackward>)\n"
     ]
    }
   ],
   "source": [
    "# Try our customize linear regression model with single input\n",
    "\n",
    "x = torch.tensor([[1.0]])\n",
    "yhat = lr(x)\n",
    "print(\"The prediction: \", yhat)"
   ]
  },
  {
   "cell_type": "markdown",
   "id": "01ed7d80",
   "metadata": {
    "papermill": {
     "duration": 0.051973,
     "end_time": "2022-02-24T16:35:33.458342",
     "exception": false,
     "start_time": "2022-02-24T16:35:33.406369",
     "status": "completed"
    },
    "tags": []
   },
   "source": [
    "<!--Empty Space for separating topics-->\n"
   ]
  },
  {
   "cell_type": "markdown",
   "id": "d4d06876",
   "metadata": {
    "papermill": {
     "duration": 0.052715,
     "end_time": "2022-02-24T16:35:33.562948",
     "exception": false,
     "start_time": "2022-02-24T16:35:33.510233",
     "status": "completed"
    },
    "tags": []
   },
   "source": [
    "Now, let us try another example with multiple samples.\n"
   ]
  },
  {
   "cell_type": "code",
   "execution_count": 20,
   "id": "baeb7576",
   "metadata": {
    "execution": {
     "iopub.execute_input": "2022-02-24T16:35:33.670121Z",
     "iopub.status.busy": "2022-02-24T16:35:33.669649Z",
     "iopub.status.idle": "2022-02-24T16:35:33.673918Z",
     "shell.execute_reply": "2022-02-24T16:35:33.674307Z",
     "shell.execute_reply.started": "2022-02-24T16:32:53.056255Z"
    },
    "papermill": {
     "duration": 0.060146,
     "end_time": "2022-02-24T16:35:33.674422",
     "exception": false,
     "start_time": "2022-02-24T16:35:33.614276",
     "status": "completed"
    },
    "tags": []
   },
   "outputs": [
    {
     "name": "stdout",
     "output_type": "stream",
     "text": [
      "The prediction:  tensor([[0.2755],\n",
      "        [0.0816]], grad_fn=<AddmmBackward>)\n"
     ]
    }
   ],
   "source": [
    "# Try our customize linear regression model with multiple input\n",
    "\n",
    "x = torch.tensor([[1.0], [2.0]])\n",
    "yhat = lr(x)\n",
    "print(\"The prediction: \", yhat)"
   ]
  },
  {
   "cell_type": "markdown",
   "id": "9edd5580",
   "metadata": {
    "papermill": {
     "duration": 0.051248,
     "end_time": "2022-02-24T16:35:33.777396",
     "exception": false,
     "start_time": "2022-02-24T16:35:33.726148",
     "status": "completed"
    },
    "tags": []
   },
   "source": [
    "the parameters are also stored in an ordered dictionary :\n"
   ]
  },
  {
   "cell_type": "code",
   "execution_count": 21,
   "id": "344d383c",
   "metadata": {
    "execution": {
     "iopub.execute_input": "2022-02-24T16:35:33.885582Z",
     "iopub.status.busy": "2022-02-24T16:35:33.885093Z",
     "iopub.status.idle": "2022-02-24T16:35:33.890833Z",
     "shell.execute_reply": "2022-02-24T16:35:33.891537Z",
     "shell.execute_reply.started": "2022-02-24T16:33:03.886956Z"
    },
    "papermill": {
     "duration": 0.062093,
     "end_time": "2022-02-24T16:35:33.891800",
     "exception": false,
     "start_time": "2022-02-24T16:35:33.829707",
     "status": "completed"
    },
    "tags": []
   },
   "outputs": [
    {
     "name": "stdout",
     "output_type": "stream",
     "text": [
      "Python dictionary:  OrderedDict([('linear.weight', tensor([[-0.1939]])), ('linear.bias', tensor([0.4694]))])\n",
      "keys:  odict_keys(['linear.weight', 'linear.bias'])\n",
      "values:  odict_values([tensor([[-0.1939]]), tensor([0.4694])])\n"
     ]
    }
   ],
   "source": [
    "print(\"Python dictionary: \", lr.state_dict())\n",
    "print(\"keys: \",lr.state_dict().keys())\n",
    "print(\"values: \",lr.state_dict().values())\n"
   ]
  },
  {
   "cell_type": "markdown",
   "id": "2a6e47b9",
   "metadata": {
    "papermill": {
     "duration": 0.053375,
     "end_time": "2022-02-24T16:35:33.998490",
     "exception": false,
     "start_time": "2022-02-24T16:35:33.945115",
     "status": "completed"
    },
    "tags": []
   },
   "source": [
    "<!--Empty Space for separating topics-->\n"
   ]
  },
  {
   "cell_type": "markdown",
   "id": "d22a01e4",
   "metadata": {
    "papermill": {
     "duration": 0.052536,
     "end_time": "2022-02-24T16:35:34.103922",
     "exception": false,
     "start_time": "2022-02-24T16:35:34.051386",
     "status": "completed"
    },
    "tags": []
   },
   "source": [
    "<h3>Practice</h3>\n"
   ]
  },
  {
   "cell_type": "markdown",
   "id": "30c4d214",
   "metadata": {
    "papermill": {
     "duration": 0.05207,
     "end_time": "2022-02-24T16:35:34.208222",
     "exception": false,
     "start_time": "2022-02-24T16:35:34.156152",
     "status": "completed"
    },
    "tags": []
   },
   "source": [
    "Create an object <code>lr1</code> from the class we created before and make a prediction by using the following tensor:\n"
   ]
  },
  {
   "cell_type": "code",
   "execution_count": 22,
   "id": "aef551b1",
   "metadata": {
    "execution": {
     "iopub.execute_input": "2022-02-24T16:35:34.314503Z",
     "iopub.status.busy": "2022-02-24T16:35:34.313936Z",
     "iopub.status.idle": "2022-02-24T16:35:34.318607Z",
     "shell.execute_reply": "2022-02-24T16:35:34.319306Z",
     "shell.execute_reply.started": "2022-02-24T16:34:04.736596Z"
    },
    "papermill": {
     "duration": 0.059358,
     "end_time": "2022-02-24T16:35:34.319492",
     "exception": false,
     "start_time": "2022-02-24T16:35:34.260134",
     "status": "completed"
    },
    "tags": []
   },
   "outputs": [
    {
     "name": "stdout",
     "output_type": "stream",
     "text": [
      "Prediction is:  tensor([[-0.3417],\n",
      "        [-1.2832],\n",
      "        [-2.2246]], grad_fn=<AddmmBackward>)\n"
     ]
    }
   ],
   "source": [
    "# Practice: Use the LR class to create a model and make a prediction of the following tensor.\n",
    "\n",
    "x = torch.tensor([[1.0], [2.0], [3.0]])\n",
    "\n",
    "lr1 = LR(1,1)\n",
    "\n",
    "yhat = lr1(x)\n",
    "\n",
    "print(\"Prediction is: \",yhat)"
   ]
  },
  {
   "cell_type": "markdown",
   "id": "91cd1f7c",
   "metadata": {
    "papermill": {
     "duration": 0.081673,
     "end_time": "2022-02-24T16:35:34.482323",
     "exception": false,
     "start_time": "2022-02-24T16:35:34.400650",
     "status": "completed"
    },
    "tags": []
   },
   "source": [
    "Double-click <b>here</b> for the solution.\n",
    "\n",
    "<!-- Your answer is below:\n",
    "x=torch.tensor([[1.0],[2.0],[3.0]])\n",
    "lr1=LR(1,1)\n",
    "yhat=lr(x)\n",
    "yhat\n",
    "-->\n"
   ]
  },
  {
   "cell_type": "markdown",
   "id": "9d879ab7",
   "metadata": {
    "papermill": {
     "duration": 0.081,
     "end_time": "2022-02-24T16:35:34.644384",
     "exception": false,
     "start_time": "2022-02-24T16:35:34.563384",
     "status": "completed"
    },
    "tags": []
   },
   "source": [
    " <!-- Your answer is below:\n",
    "x=torch.tensor([[1.0],[2.0],[3.0]])\n",
    "lr1=LR(1,1)\n",
    "yhat=lr1(x)\n",
    "yhat\n",
    "-->\n"
   ]
  },
  {
   "cell_type": "markdown",
   "id": "adfc88a8",
   "metadata": {
    "papermill": {
     "duration": 0.080135,
     "end_time": "2022-02-24T16:35:34.805767",
     "exception": false,
     "start_time": "2022-02-24T16:35:34.725632",
     "status": "completed"
    },
    "tags": []
   },
   "source": [
    "<a href=\"https://dataplatform.cloud.ibm.com/registration/stepone?utm_medium=Exinfluencer&utm_source=Exinfluencer&utm_content=000026UJ&utm_term=10006555&utm_id=NA-SkillsNetwork-Channel-SkillsNetworkCoursesIBMDeveloperSkillsNetworkDL0110ENSkillsNetwork20647811-2021-01-01&context=cpdaas&apps=data_science_experience%2Cwatson_machine_learning\"><img src=\"https://cf-courses-data.s3.us.cloud-object-storage.appdomain.cloud/IBMDeveloperSkillsNetwork-DL0110EN-SkillsNetwork/Template/module%201/images/Watson_Studio.png\"/></a>\n"
   ]
  },
  {
   "cell_type": "markdown",
   "id": "858eb329",
   "metadata": {
    "papermill": {
     "duration": 0.081341,
     "end_time": "2022-02-24T16:35:34.967237",
     "exception": false,
     "start_time": "2022-02-24T16:35:34.885896",
     "status": "completed"
    },
    "tags": []
   },
   "source": [
    "<h2>About the Authors:</h2> \n",
    "\n",
    "<a href=\"https://www.linkedin.com/in/joseph-s-50398b136/?utm_medium=Exinfluencer&utm_source=Exinfluencer&utm_content=000026UJ&utm_term=10006555&utm_id=NA-SkillsNetwork-Channel-SkillsNetworkCoursesIBMDeveloperSkillsNetworkDL0110ENSkillsNetwork20647811-2021-01-01\">Joseph Santarcangelo</a> has a PhD in Electrical Engineering, his research focused on using machine learning, signal processing, and computer vision to determine how videos impact human cognition. Joseph has been working for IBM since he completed his PhD.\n"
   ]
  },
  {
   "cell_type": "markdown",
   "id": "25516f4d",
   "metadata": {
    "papermill": {
     "duration": 0.082929,
     "end_time": "2022-02-24T16:35:35.132623",
     "exception": false,
     "start_time": "2022-02-24T16:35:35.049694",
     "status": "completed"
    },
    "tags": []
   },
   "source": [
    "Other contributors: <a href=\"https://www.linkedin.com/in/michelleccarey/?utm_medium=Exinfluencer&utm_source=Exinfluencer&utm_content=000026UJ&utm_term=10006555&utm_id=NA-SkillsNetwork-Channel-SkillsNetworkCoursesIBMDeveloperSkillsNetworkDL0110ENSkillsNetwork20647811-2021-01-01\">Michelle Carey</a>, <a href=\"https://www.linkedin.com/in/jiahui-mavis-zhou-a4537814a?utm_medium=Exinfluencer&utm_source=Exinfluencer&utm_content=000026UJ&utm_term=10006555&utm_id=NA-SkillsNetwork-Channel-SkillsNetworkCoursesIBMDeveloperSkillsNetworkDL0110ENSkillsNetwork20647811-2021-01-01\">Mavis Zhou</a>\n"
   ]
  },
  {
   "cell_type": "markdown",
   "id": "c3a18b99",
   "metadata": {
    "papermill": {
     "duration": 0.080177,
     "end_time": "2022-02-24T16:35:35.293668",
     "exception": false,
     "start_time": "2022-02-24T16:35:35.213491",
     "status": "completed"
    },
    "tags": []
   },
   "source": [
    "## Change Log\n",
    "\n",
    "| Date (YYYY-MM-DD) | Version | Changed By | Change Description                                          |\n",
    "| ----------------- | ------- | ---------- | ----------------------------------------------------------- |\n",
    "| 2020-09-21        | 2.0     | Shubham    | Migrated Lab to Markdown and added to course repo in GitLab |\n"
   ]
  },
  {
   "cell_type": "markdown",
   "id": "1ab2d5c9",
   "metadata": {
    "papermill": {
     "duration": 0.080048,
     "end_time": "2022-02-24T16:35:35.454281",
     "exception": false,
     "start_time": "2022-02-24T16:35:35.374233",
     "status": "completed"
    },
    "tags": []
   },
   "source": [
    "<hr>\n"
   ]
  },
  {
   "cell_type": "markdown",
   "id": "ce00fd1f",
   "metadata": {
    "papermill": {
     "duration": 0.080568,
     "end_time": "2022-02-24T16:35:35.614962",
     "exception": false,
     "start_time": "2022-02-24T16:35:35.534394",
     "status": "completed"
    },
    "tags": []
   },
   "source": [
    "## <h3 align=\"center\"> © IBM Corporation 2020. All rights reserved. <h3/>\n"
   ]
  }
 ],
 "metadata": {
  "kernelspec": {
   "display_name": "Python 3",
   "language": "python",
   "name": "python3"
  },
  "language_info": {
   "codemirror_mode": {
    "name": "ipython",
    "version": 3
   },
   "file_extension": ".py",
   "mimetype": "text/x-python",
   "name": "python",
   "nbconvert_exporter": "python",
   "pygments_lexer": "ipython3",
   "version": "3.7.12"
  },
  "papermill": {
   "default_parameters": {},
   "duration": 19.675608,
   "end_time": "2022-02-24T16:35:36.406130",
   "environment_variables": {},
   "exception": null,
   "input_path": "__notebook__.ipynb",
   "output_path": "__notebook__.ipynb",
   "parameters": {},
   "start_time": "2022-02-24T16:35:16.730522",
   "version": "2.3.3"
  }
 },
 "nbformat": 4,
 "nbformat_minor": 5
}
