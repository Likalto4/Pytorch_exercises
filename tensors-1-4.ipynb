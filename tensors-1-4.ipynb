{
 "cells": [
  {
   "cell_type": "markdown",
   "id": "a19d1c86",
   "metadata": {
    "papermill": {
     "duration": 0.036499,
     "end_time": "2022-02-23T11:10:27.757585",
     "exception": false,
     "start_time": "2022-02-23T11:10:27.721086",
     "status": "completed"
    },
    "tags": []
   },
   "source": [
    "<center>\n",
    "    <img src=\"https://cf-courses-data.s3.us.cloud-object-storage.appdomain.cloud/IBMDeveloperSkillsNetwork-DL0110EN-SkillsNetwork/Template/module%201/images/IDSNlogo.png\" width=\"300\" alt=\"cognitiveclass.ai logo\"  />\n",
    "</center>\n"
   ]
  },
  {
   "cell_type": "markdown",
   "id": "f75fbe02",
   "metadata": {
    "papermill": {
     "duration": 0.036834,
     "end_time": "2022-02-23T11:10:27.832201",
     "exception": false,
     "start_time": "2022-02-23T11:10:27.795367",
     "status": "completed"
    },
    "tags": []
   },
   "source": [
    "<h1>Simple Dataset</h1> \n"
   ]
  },
  {
   "cell_type": "markdown",
   "id": "ab53fe93",
   "metadata": {
    "papermill": {
     "duration": 0.035186,
     "end_time": "2022-02-23T11:10:27.903790",
     "exception": false,
     "start_time": "2022-02-23T11:10:27.868604",
     "status": "completed"
    },
    "tags": []
   },
   "source": [
    "<h2>Objective</h2><ul><li> How to create a dataset in pytorch.</li><li> How to perform transformations on the dataset.</li></ul> \n"
   ]
  },
  {
   "cell_type": "markdown",
   "id": "68b4c34c",
   "metadata": {
    "papermill": {
     "duration": 0.034912,
     "end_time": "2022-02-23T11:10:27.974316",
     "exception": false,
     "start_time": "2022-02-23T11:10:27.939404",
     "status": "completed"
    },
    "tags": []
   },
   "source": [
    "<h2>Table of Contents</h2>\n"
   ]
  },
  {
   "cell_type": "markdown",
   "id": "d692c5d7",
   "metadata": {
    "papermill": {
     "duration": 0.035021,
     "end_time": "2022-02-23T11:10:28.044586",
     "exception": false,
     "start_time": "2022-02-23T11:10:28.009565",
     "status": "completed"
    },
    "tags": []
   },
   "source": [
    "<p>In this lab, you will construct a basic dataset by using PyTorch and learn how to apply basic transformations to it.</p> \n",
    "<ul>\n",
    "    <li><a href=\"https://#Simple_Dataset\">Simple dataset</a></li>\n",
    "    <li><a href=\"https://#Transforms\">Transforms</a></li>\n",
    "    <li><a href=\"https://#Compose\">Compose</a></li>\n",
    "</ul>\n",
    "<p>Estimated Time Needed: <strong>30 min</strong></p>\n",
    "<hr>\n"
   ]
  },
  {
   "cell_type": "markdown",
   "id": "6a4ab333",
   "metadata": {
    "papermill": {
     "duration": 0.034833,
     "end_time": "2022-02-23T11:10:28.115102",
     "exception": false,
     "start_time": "2022-02-23T11:10:28.080269",
     "status": "completed"
    },
    "tags": []
   },
   "source": [
    "<h2>Preparation</h2>\n"
   ]
  },
  {
   "cell_type": "markdown",
   "id": "1c4666e3",
   "metadata": {
    "papermill": {
     "duration": 0.03825,
     "end_time": "2022-02-23T11:10:28.188695",
     "exception": false,
     "start_time": "2022-02-23T11:10:28.150445",
     "status": "completed"
    },
    "tags": []
   },
   "source": [
    "The following are the libraries we are going to use for this lab. The <code>torch.manual_seed()</code> is for forcing the random function to give the same number every time we try to recompile it.\n"
   ]
  },
  {
   "cell_type": "code",
   "execution_count": 1,
   "id": "6dc4555d",
   "metadata": {
    "execution": {
     "iopub.execute_input": "2022-02-23T11:10:28.282523Z",
     "iopub.status.busy": "2022-02-23T11:10:28.280827Z",
     "iopub.status.idle": "2022-02-23T11:10:29.506827Z",
     "shell.execute_reply": "2022-02-23T11:10:29.507271Z",
     "shell.execute_reply.started": "2022-02-23T11:04:52.892719Z"
    },
    "papermill": {
     "duration": 1.269366,
     "end_time": "2022-02-23T11:10:29.507543",
     "exception": false,
     "start_time": "2022-02-23T11:10:28.238177",
     "status": "completed"
    },
    "tags": []
   },
   "outputs": [
    {
     "data": {
      "text/plain": [
       "<torch._C.Generator at 0x7fac0831d0f0>"
      ]
     },
     "execution_count": 1,
     "metadata": {},
     "output_type": "execute_result"
    }
   ],
   "source": [
    "# These are the libraries will be used for this lab.\n",
    "\n",
    "import torch\n",
    "from torch.utils.data import Dataset\n",
    "torch.manual_seed(1)\n"
   ]
  },
  {
   "cell_type": "markdown",
   "id": "f7b407f9",
   "metadata": {
    "papermill": {
     "duration": 0.035176,
     "end_time": "2022-02-23T11:10:29.578476",
     "exception": false,
     "start_time": "2022-02-23T11:10:29.543300",
     "status": "completed"
    },
    "tags": []
   },
   "source": [
    "<!--Empty Space for separating topics-->\n"
   ]
  },
  {
   "cell_type": "markdown",
   "id": "40a0ee2e",
   "metadata": {
    "papermill": {
     "duration": 0.036098,
     "end_time": "2022-02-23T11:10:29.649957",
     "exception": false,
     "start_time": "2022-02-23T11:10:29.613859",
     "status": "completed"
    },
    "tags": []
   },
   "source": [
    "<h2 id=\"Simple_Dataset\">Simple dataset</h2>\n"
   ]
  },
  {
   "cell_type": "markdown",
   "id": "5d3640a9",
   "metadata": {
    "papermill": {
     "duration": 0.036237,
     "end_time": "2022-02-23T11:10:29.722048",
     "exception": false,
     "start_time": "2022-02-23T11:10:29.685811",
     "status": "completed"
    },
    "tags": []
   },
   "source": [
    "Let us try to create our own dataset class.\n"
   ]
  },
  {
   "cell_type": "code",
   "execution_count": 2,
   "id": "ede4cc75",
   "metadata": {
    "execution": {
     "iopub.execute_input": "2022-02-23T11:10:29.802013Z",
     "iopub.status.busy": "2022-02-23T11:10:29.797703Z",
     "iopub.status.idle": "2022-02-23T11:10:29.803990Z",
     "shell.execute_reply": "2022-02-23T11:10:29.804471Z",
     "shell.execute_reply.started": "2022-02-23T11:04:54.305820Z"
    },
    "papermill": {
     "duration": 0.045262,
     "end_time": "2022-02-23T11:10:29.804633",
     "exception": false,
     "start_time": "2022-02-23T11:10:29.759371",
     "status": "completed"
    },
    "tags": []
   },
   "outputs": [],
   "source": [
    "# Define class for dataset\n",
    "\n",
    "class toy_set(Dataset):\n",
    "    \n",
    "    # Constructor with defult values \n",
    "    def __init__(self, length = 100, transform = None):\n",
    "        self.len = length\n",
    "        self.x = 2 * torch.ones(length, 2)\n",
    "        self.y = torch.ones(length, 1)\n",
    "        self.transform = transform\n",
    "     \n",
    "    # Getter\n",
    "    def __getitem__(self, index):\n",
    "        sample = self.x[index], self.y[index]\n",
    "        if self.transform:\n",
    "            sample = self.transform(sample)     \n",
    "        return sample\n",
    "    \n",
    "    # Get Length\n",
    "    def __len__(self):\n",
    "        return self.len"
   ]
  },
  {
   "cell_type": "markdown",
   "id": "878edb0f",
   "metadata": {
    "papermill": {
     "duration": 0.035607,
     "end_time": "2022-02-23T11:10:29.876069",
     "exception": false,
     "start_time": "2022-02-23T11:10:29.840462",
     "status": "completed"
    },
    "tags": []
   },
   "source": [
    "Now, let us create our <code>toy_set</code> object, and find out the value on index 1 and the length of the inital dataset\n"
   ]
  },
  {
   "cell_type": "code",
   "execution_count": 3,
   "id": "759b9710",
   "metadata": {
    "execution": {
     "iopub.execute_input": "2022-02-23T11:10:29.950476Z",
     "iopub.status.busy": "2022-02-23T11:10:29.949858Z",
     "iopub.status.idle": "2022-02-23T11:10:30.037051Z",
     "shell.execute_reply": "2022-02-23T11:10:30.037663Z",
     "shell.execute_reply.started": "2022-02-23T11:04:54.316506Z"
    },
    "papermill": {
     "duration": 0.12663,
     "end_time": "2022-02-23T11:10:30.037833",
     "exception": false,
     "start_time": "2022-02-23T11:10:29.911203",
     "status": "completed"
    },
    "tags": []
   },
   "outputs": [
    {
     "name": "stdout",
     "output_type": "stream",
     "text": [
      "Our toy_set object:  <__main__.toy_set object at 0x7fabf7e16350>\n",
      "Value on index 0 of our toy_set object:  (tensor([2., 2.]), tensor([1.]))\n",
      "Our toy_set length:  100\n"
     ]
    }
   ],
   "source": [
    "# Create Dataset Object. Find out the value on index 1. Find out the length of Dataset Object.\n",
    "\n",
    "our_dataset = toy_set()\n",
    "print(\"Our toy_set object: \", our_dataset)\n",
    "print(\"Value on index 0 of our toy_set object: \", our_dataset[0])\n",
    "print(\"Our toy_set length: \", len(our_dataset))"
   ]
  },
  {
   "cell_type": "markdown",
   "id": "269d2647",
   "metadata": {
    "papermill": {
     "duration": 0.036518,
     "end_time": "2022-02-23T11:10:30.111128",
     "exception": false,
     "start_time": "2022-02-23T11:10:30.074610",
     "status": "completed"
    },
    "tags": []
   },
   "source": [
    "As a result, we can apply the same indexing convention as a <code>list</code>,\n",
    "and apply the fuction <code>len</code> on the <code>toy_set</code> object. We are able to customize the indexing and length method by <code>def \\__getitem\\_\\_(self, index)</code> and <code>def \\__len\\_\\_(self)</code>.\n"
   ]
  },
  {
   "cell_type": "markdown",
   "id": "20026ae2",
   "metadata": {
    "papermill": {
     "duration": 0.042181,
     "end_time": "2022-02-23T11:10:30.189059",
     "exception": false,
     "start_time": "2022-02-23T11:10:30.146878",
     "status": "completed"
    },
    "tags": []
   },
   "source": [
    "Now, let us print out the first 3 elements and assign them to x and y:\n"
   ]
  },
  {
   "cell_type": "code",
   "execution_count": 4,
   "id": "2bf8d2f5",
   "metadata": {
    "execution": {
     "iopub.execute_input": "2022-02-23T11:10:30.283735Z",
     "iopub.status.busy": "2022-02-23T11:10:30.283057Z",
     "iopub.status.idle": "2022-02-23T11:10:30.293272Z",
     "shell.execute_reply": "2022-02-23T11:10:30.293757Z",
     "shell.execute_reply.started": "2022-02-23T11:04:54.426637Z"
    },
    "papermill": {
     "duration": 0.060995,
     "end_time": "2022-02-23T11:10:30.293932",
     "exception": false,
     "start_time": "2022-02-23T11:10:30.232937",
     "status": "completed"
    },
    "tags": []
   },
   "outputs": [
    {
     "name": "stdout",
     "output_type": "stream",
     "text": [
      "index:  0 ; x: tensor([2., 2.]) ; y: tensor([1.])\n",
      "index:  1 ; x: tensor([2., 2.]) ; y: tensor([1.])\n",
      "index:  2 ; x: tensor([2., 2.]) ; y: tensor([1.])\n"
     ]
    }
   ],
   "source": [
    "# Use loop to print out first 3 elements in dataset\n",
    "\n",
    "for i in range(3):\n",
    "    x, y=our_dataset[i]\n",
    "    print(\"index: \", i, '; x:', x, '; y:', y)"
   ]
  },
  {
   "cell_type": "markdown",
   "id": "7cb0a7d1",
   "metadata": {
    "papermill": {
     "duration": 0.037273,
     "end_time": "2022-02-23T11:10:30.370150",
     "exception": false,
     "start_time": "2022-02-23T11:10:30.332877",
     "status": "completed"
    },
    "tags": []
   },
   "source": [
    "The dataset object is an Iterable; as a result, we  apply the loop directly on the dataset object\n"
   ]
  },
  {
   "cell_type": "code",
   "execution_count": 5,
   "id": "de03f585",
   "metadata": {
    "execution": {
     "iopub.execute_input": "2022-02-23T11:10:30.444843Z",
     "iopub.status.busy": "2022-02-23T11:10:30.444280Z",
     "iopub.status.idle": "2022-02-23T11:10:30.554466Z",
     "shell.execute_reply": "2022-02-23T11:10:30.553924Z",
     "shell.execute_reply.started": "2022-02-23T11:04:54.440513Z"
    },
    "papermill": {
     "duration": 0.148544,
     "end_time": "2022-02-23T11:10:30.554613",
     "exception": false,
     "start_time": "2022-02-23T11:10:30.406069",
     "status": "completed"
    },
    "tags": []
   },
   "outputs": [
    {
     "name": "stdout",
     "output_type": "stream",
     "text": [
      " x: tensor([2., 2.]) y: tensor([1.])\n",
      " x: tensor([2., 2.]) y: tensor([1.])\n",
      " x: tensor([2., 2.]) y: tensor([1.])\n",
      " x: tensor([2., 2.]) y: tensor([1.])\n",
      " x: tensor([2., 2.]) y: tensor([1.])\n",
      " x: tensor([2., 2.]) y: tensor([1.])\n",
      " x: tensor([2., 2.]) y: tensor([1.])\n",
      " x: tensor([2., 2.]) y: tensor([1.])\n",
      " x: tensor([2., 2.]) y: tensor([1.])\n",
      " x: tensor([2., 2.]) y: tensor([1.])\n",
      " x: tensor([2., 2.]) y: tensor([1.])\n",
      " x: tensor([2., 2.]) y: tensor([1.])\n",
      " x: tensor([2., 2.]) y: tensor([1.])\n",
      " x: tensor([2., 2.]) y: tensor([1.])\n",
      " x: tensor([2., 2.]) y: tensor([1.])\n",
      " x: tensor([2., 2.]) y: tensor([1.])\n",
      " x: tensor([2., 2.]) y: tensor([1.])\n",
      " x: tensor([2., 2.]) y: tensor([1.])\n",
      " x: tensor([2., 2.]) y: tensor([1.])\n",
      " x: tensor([2., 2.]) y: tensor([1.])\n",
      " x: tensor([2., 2.]) y: tensor([1.])\n",
      " x: tensor([2., 2.]) y: tensor([1.])\n",
      " x: tensor([2., 2.]) y: tensor([1.])\n",
      " x: tensor([2., 2.]) y: tensor([1.])\n",
      " x: tensor([2., 2.]) y: tensor([1.])\n",
      " x: tensor([2., 2.]) y: tensor([1.])\n",
      " x: tensor([2., 2.]) y: tensor([1.])\n",
      " x: tensor([2., 2.]) y: tensor([1.])\n",
      " x: tensor([2., 2.]) y: tensor([1.])\n",
      " x: tensor([2., 2.]) y: tensor([1.])\n",
      " x: tensor([2., 2.]) y: tensor([1.])\n",
      " x: tensor([2., 2.]) y: tensor([1.])\n",
      " x: tensor([2., 2.]) y: tensor([1.])\n",
      " x: tensor([2., 2.]) y: tensor([1.])\n",
      " x: tensor([2., 2.]) y: tensor([1.])\n",
      " x: tensor([2., 2.]) y: tensor([1.])\n",
      " x: tensor([2., 2.]) y: tensor([1.])\n",
      " x: tensor([2., 2.]) y: tensor([1.])\n",
      " x: tensor([2., 2.]) y: tensor([1.])\n",
      " x: tensor([2., 2.]) y: tensor([1.])\n",
      " x: tensor([2., 2.]) y: tensor([1.])\n",
      " x: tensor([2., 2.]) y: tensor([1.])\n",
      " x: tensor([2., 2.]) y: tensor([1.])\n",
      " x: tensor([2., 2.]) y: tensor([1.])\n",
      " x: tensor([2., 2.]) y: tensor([1.])\n",
      " x: tensor([2., 2.]) y: tensor([1.])\n",
      " x: tensor([2., 2.]) y: tensor([1.])\n",
      " x: tensor([2., 2.]) y: tensor([1.])\n",
      " x: tensor([2., 2.]) y: tensor([1.])\n",
      " x: tensor([2., 2.]) y: tensor([1.])\n",
      " x: tensor([2., 2.]) y: tensor([1.])\n",
      " x: tensor([2., 2.]) y: tensor([1.])\n",
      " x: tensor([2., 2.]) y: tensor([1.])\n",
      " x: tensor([2., 2.]) y: tensor([1.])\n",
      " x: tensor([2., 2.]) y: tensor([1.])\n",
      " x: tensor([2., 2.]) y: tensor([1.])\n",
      " x: tensor([2., 2.]) y: tensor([1.])\n",
      " x: tensor([2., 2.]) y: tensor([1.])\n",
      " x: tensor([2., 2.]) y: tensor([1.])\n",
      " x: tensor([2., 2.]) y: tensor([1.])\n",
      " x: tensor([2., 2.]) y: tensor([1.])\n",
      " x: tensor([2., 2.]) y: tensor([1.])\n",
      " x: tensor([2., 2.]) y: tensor([1.])\n",
      " x: tensor([2., 2.]) y: tensor([1.])\n",
      " x: tensor([2., 2.]) y: tensor([1.])\n",
      " x: tensor([2., 2.]) y: tensor([1.])\n",
      " x: tensor([2., 2.]) y: tensor([1.])\n",
      " x: tensor([2., 2.]) y: tensor([1.])\n",
      " x: tensor([2., 2.]) y: tensor([1.])\n",
      " x: tensor([2., 2.]) y: tensor([1.])\n",
      " x: tensor([2., 2.]) y: tensor([1.])\n",
      " x: tensor([2., 2.]) y: tensor([1.])\n",
      " x: tensor([2., 2.]) y: tensor([1.])\n",
      " x: tensor([2., 2.]) y: tensor([1.])\n",
      " x: tensor([2., 2.]) y: tensor([1.])\n",
      " x: tensor([2., 2.]) y: tensor([1.])\n",
      " x: tensor([2., 2.]) y: tensor([1.])\n",
      " x: tensor([2., 2.]) y: tensor([1.])\n",
      " x: tensor([2., 2.]) y: tensor([1.])\n",
      " x: tensor([2., 2.]) y: tensor([1.])\n",
      " x: tensor([2., 2.]) y: tensor([1.])\n",
      " x: tensor([2., 2.]) y: tensor([1.])\n",
      " x: tensor([2., 2.]) y: tensor([1.])\n",
      " x: tensor([2., 2.]) y: tensor([1.])\n",
      " x: tensor([2., 2.]) y: tensor([1.])\n",
      " x: tensor([2., 2.]) y: tensor([1.])\n",
      " x: tensor([2., 2.]) y: tensor([1.])\n",
      " x: tensor([2., 2.]) y: tensor([1.])\n",
      " x: tensor([2., 2.]) y: tensor([1.])\n",
      " x: tensor([2., 2.]) y: tensor([1.])\n",
      " x: tensor([2., 2.]) y: tensor([1.])\n",
      " x: tensor([2., 2.]) y: tensor([1.])\n",
      " x: tensor([2., 2.]) y: tensor([1.])\n",
      " x: tensor([2., 2.]) y: tensor([1.])\n",
      " x: tensor([2., 2.]) y: tensor([1.])\n",
      " x: tensor([2., 2.]) y: tensor([1.])\n",
      " x: tensor([2., 2.]) y: tensor([1.])\n",
      " x: tensor([2., 2.]) y: tensor([1.])\n",
      " x: tensor([2., 2.]) y: tensor([1.])\n",
      " x: tensor([2., 2.]) y: tensor([1.])\n"
     ]
    }
   ],
   "source": [
    "for x,y in our_dataset:\n",
    "    print(' x:', x, 'y:', y)"
   ]
  },
  {
   "cell_type": "markdown",
   "id": "e248db52",
   "metadata": {
    "papermill": {
     "duration": 0.037108,
     "end_time": "2022-02-23T11:10:30.628888",
     "exception": false,
     "start_time": "2022-02-23T11:10:30.591780",
     "status": "completed"
    },
    "tags": []
   },
   "source": [
    "<!--Empty Space for separating topics-->\n"
   ]
  },
  {
   "cell_type": "markdown",
   "id": "0c0c165d",
   "metadata": {
    "papermill": {
     "duration": 0.036525,
     "end_time": "2022-02-23T11:10:30.702214",
     "exception": false,
     "start_time": "2022-02-23T11:10:30.665689",
     "status": "completed"
    },
    "tags": []
   },
   "source": [
    "<h3>Practice</h3>\n"
   ]
  },
  {
   "cell_type": "markdown",
   "id": "af1606f9",
   "metadata": {
    "papermill": {
     "duration": 0.036352,
     "end_time": "2022-02-23T11:10:30.775054",
     "exception": false,
     "start_time": "2022-02-23T11:10:30.738702",
     "status": "completed"
    },
    "tags": []
   },
   "source": [
    "Try to create an <code>toy_set</code> object with length <b>50</b>. Print out the length of your object.\n"
   ]
  },
  {
   "cell_type": "code",
   "execution_count": 6,
   "id": "4292bd9d",
   "metadata": {
    "execution": {
     "iopub.execute_input": "2022-02-23T11:10:30.854275Z",
     "iopub.status.busy": "2022-02-23T11:10:30.853622Z",
     "iopub.status.idle": "2022-02-23T11:10:30.856600Z",
     "shell.execute_reply": "2022-02-23T11:10:30.857042Z",
     "shell.execute_reply.started": "2022-02-23T11:04:54.562370Z"
    },
    "papermill": {
     "duration": 0.045379,
     "end_time": "2022-02-23T11:10:30.857196",
     "exception": false,
     "start_time": "2022-02-23T11:10:30.811817",
     "status": "completed"
    },
    "tags": []
   },
   "outputs": [
    {
     "name": "stdout",
     "output_type": "stream",
     "text": [
      "Length of new object is: 50\n"
     ]
    }
   ],
   "source": [
    "# Practice: Create a new object with length 50, and print the length of object out.\n",
    "\n",
    "new_data = toy_set(50);\n",
    "\n",
    "print(\"Length of new object is:\", len(new_data))\n",
    "\n",
    "\n",
    "\n",
    "# Type your code here"
   ]
  },
  {
   "cell_type": "markdown",
   "id": "a6c14a59",
   "metadata": {
    "papermill": {
     "duration": 0.036485,
     "end_time": "2022-02-23T11:10:30.931167",
     "exception": false,
     "start_time": "2022-02-23T11:10:30.894682",
     "status": "completed"
    },
    "tags": []
   },
   "source": [
    "Double-click <b>here</b> for the solution.\n",
    "\n",
    "<!-- \n",
    "my_dataset = toy_set(length = 50)\n",
    "print(\"My toy_set length: \", len(my_dataset))\n",
    "-->\n"
   ]
  },
  {
   "cell_type": "markdown",
   "id": "305b3f7e",
   "metadata": {
    "papermill": {
     "duration": 0.036841,
     "end_time": "2022-02-23T11:10:31.004740",
     "exception": false,
     "start_time": "2022-02-23T11:10:30.967899",
     "status": "completed"
    },
    "tags": []
   },
   "source": [
    "<!--Empty Space for separating topics-->\n"
   ]
  },
  {
   "cell_type": "markdown",
   "id": "b5406e70",
   "metadata": {
    "papermill": {
     "duration": 0.037336,
     "end_time": "2022-02-23T11:10:31.079391",
     "exception": false,
     "start_time": "2022-02-23T11:10:31.042055",
     "status": "completed"
    },
    "tags": []
   },
   "source": [
    "<h2 id=\"Transforms\">Transforms</h2>\n"
   ]
  },
  {
   "cell_type": "markdown",
   "id": "fb804bb6",
   "metadata": {
    "papermill": {
     "duration": 0.036896,
     "end_time": "2022-02-23T11:10:31.154055",
     "exception": false,
     "start_time": "2022-02-23T11:10:31.117159",
     "status": "completed"
    },
    "tags": []
   },
   "source": [
    "You can also create a class for transforming the data. In this case, we will try to add 1 to x and multiply y by 2:\n"
   ]
  },
  {
   "cell_type": "code",
   "execution_count": 7,
   "id": "8cf646a3",
   "metadata": {
    "execution": {
     "iopub.execute_input": "2022-02-23T11:10:31.234822Z",
     "iopub.status.busy": "2022-02-23T11:10:31.231699Z",
     "iopub.status.idle": "2022-02-23T11:10:31.237240Z",
     "shell.execute_reply": "2022-02-23T11:10:31.236735Z",
     "shell.execute_reply.started": "2022-02-23T11:04:54.569492Z"
    },
    "papermill": {
     "duration": 0.046096,
     "end_time": "2022-02-23T11:10:31.237370",
     "exception": false,
     "start_time": "2022-02-23T11:10:31.191274",
     "status": "completed"
    },
    "tags": []
   },
   "outputs": [],
   "source": [
    "# Create tranform class add_mult\n",
    "\n",
    "class add_mult(object):\n",
    "    \n",
    "    # Constructor\n",
    "    def __init__(self, addx = 1, muly = 2):\n",
    "        self.addx = addx\n",
    "        self.muly = muly\n",
    "    \n",
    "    # Executor\n",
    "    def __call__(self, sample):\n",
    "        x = sample[0]\n",
    "        y = sample[1]\n",
    "        x = x + self.addx\n",
    "        y = y * self.muly\n",
    "        sample = x, y\n",
    "        return sample"
   ]
  },
  {
   "cell_type": "markdown",
   "id": "b1713035",
   "metadata": {
    "papermill": {
     "duration": 0.037156,
     "end_time": "2022-02-23T11:10:31.311751",
     "exception": false,
     "start_time": "2022-02-23T11:10:31.274595",
     "status": "completed"
    },
    "tags": []
   },
   "source": [
    "<!--Empty Space for separating topics-->\n"
   ]
  },
  {
   "cell_type": "markdown",
   "id": "82d29db5",
   "metadata": {
    "papermill": {
     "duration": 0.036961,
     "end_time": "2022-02-23T11:10:31.385860",
     "exception": false,
     "start_time": "2022-02-23T11:10:31.348899",
     "status": "completed"
    },
    "tags": []
   },
   "source": [
    "Now, create a transform object:.\n"
   ]
  },
  {
   "cell_type": "code",
   "execution_count": 8,
   "id": "ccd08227",
   "metadata": {
    "execution": {
     "iopub.execute_input": "2022-02-23T11:10:31.464734Z",
     "iopub.status.busy": "2022-02-23T11:10:31.463932Z",
     "iopub.status.idle": "2022-02-23T11:10:31.466178Z",
     "shell.execute_reply": "2022-02-23T11:10:31.466746Z",
     "shell.execute_reply.started": "2022-02-23T11:04:54.581575Z"
    },
    "papermill": {
     "duration": 0.043833,
     "end_time": "2022-02-23T11:10:31.466902",
     "exception": false,
     "start_time": "2022-02-23T11:10:31.423069",
     "status": "completed"
    },
    "tags": []
   },
   "outputs": [],
   "source": [
    "# Create an add_mult transform object, and an toy_set object\n",
    "\n",
    "a_m = add_mult()\n",
    "data_set = toy_set()"
   ]
  },
  {
   "cell_type": "markdown",
   "id": "9db62f69",
   "metadata": {
    "papermill": {
     "duration": 0.037244,
     "end_time": "2022-02-23T11:10:31.540973",
     "exception": false,
     "start_time": "2022-02-23T11:10:31.503729",
     "status": "completed"
    },
    "tags": []
   },
   "source": [
    "Assign the outputs of the original dataset to <code>x</code> and <code>y</code>. Then, apply the transform <code>add_mult</code> to the dataset and output the values as <code>x\\_</code> and <code>y\\_</code>, respectively:\n"
   ]
  },
  {
   "cell_type": "code",
   "execution_count": 9,
   "id": "731f536c",
   "metadata": {
    "execution": {
     "iopub.execute_input": "2022-02-23T11:10:31.618913Z",
     "iopub.status.busy": "2022-02-23T11:10:31.617987Z",
     "iopub.status.idle": "2022-02-23T11:10:31.650064Z",
     "shell.execute_reply": "2022-02-23T11:10:31.650622Z",
     "shell.execute_reply.started": "2022-02-23T11:04:54.594023Z"
    },
    "papermill": {
     "duration": 0.072845,
     "end_time": "2022-02-23T11:10:31.650785",
     "exception": false,
     "start_time": "2022-02-23T11:10:31.577940",
     "status": "completed"
    },
    "tags": []
   },
   "outputs": [
    {
     "name": "stdout",
     "output_type": "stream",
     "text": [
      "Index:  0 Original x:  tensor([2., 2.]) Original y:  tensor([1.])\n",
      "Index:  0 Transformed x_: tensor([3., 3.]) Transformed y_: tensor([2.])\n",
      "Index:  1 Original x:  tensor([2., 2.]) Original y:  tensor([1.])\n",
      "Index:  1 Transformed x_: tensor([3., 3.]) Transformed y_: tensor([2.])\n",
      "Index:  2 Original x:  tensor([2., 2.]) Original y:  tensor([1.])\n",
      "Index:  2 Transformed x_: tensor([3., 3.]) Transformed y_: tensor([2.])\n",
      "Index:  3 Original x:  tensor([2., 2.]) Original y:  tensor([1.])\n",
      "Index:  3 Transformed x_: tensor([3., 3.]) Transformed y_: tensor([2.])\n",
      "Index:  4 Original x:  tensor([2., 2.]) Original y:  tensor([1.])\n",
      "Index:  4 Transformed x_: tensor([3., 3.]) Transformed y_: tensor([2.])\n",
      "Index:  5 Original x:  tensor([2., 2.]) Original y:  tensor([1.])\n",
      "Index:  5 Transformed x_: tensor([3., 3.]) Transformed y_: tensor([2.])\n",
      "Index:  6 Original x:  tensor([2., 2.]) Original y:  tensor([1.])\n",
      "Index:  6 Transformed x_: tensor([3., 3.]) Transformed y_: tensor([2.])\n",
      "Index:  7 Original x:  tensor([2., 2.]) Original y:  tensor([1.])\n",
      "Index:  7 Transformed x_: tensor([3., 3.]) Transformed y_: tensor([2.])\n",
      "Index:  8 Original x:  tensor([2., 2.]) Original y:  tensor([1.])\n",
      "Index:  8 Transformed x_: tensor([3., 3.]) Transformed y_: tensor([2.])\n",
      "Index:  9 Original x:  tensor([2., 2.]) Original y:  tensor([1.])\n",
      "Index:  9 Transformed x_: tensor([3., 3.]) Transformed y_: tensor([2.])\n"
     ]
    }
   ],
   "source": [
    "# Use loop to print out first 10 elements in dataset\n",
    "\n",
    "for i in range(10):\n",
    "    x, y = data_set[i]\n",
    "    print('Index: ', i, 'Original x: ', x, 'Original y: ', y)\n",
    "    x_, y_ = a_m(data_set[i])\n",
    "    print('Index: ', i, 'Transformed x_:', x_, 'Transformed y_:', y_)"
   ]
  },
  {
   "cell_type": "markdown",
   "id": "eed189ef",
   "metadata": {
    "papermill": {
     "duration": 0.037589,
     "end_time": "2022-02-23T11:10:31.725682",
     "exception": false,
     "start_time": "2022-02-23T11:10:31.688093",
     "status": "completed"
    },
    "tags": []
   },
   "source": [
    "As the result, <code>x</code> has been added by 1 and y has been multiplied by 2, as <i>\\[2, 2] + 1 = \\[3, 3]</i> and <i>\\[1] x 2 = \\[2]</i>\n"
   ]
  },
  {
   "cell_type": "markdown",
   "id": "988b33cf",
   "metadata": {
    "papermill": {
     "duration": 0.038565,
     "end_time": "2022-02-23T11:10:31.802774",
     "exception": false,
     "start_time": "2022-02-23T11:10:31.764209",
     "status": "completed"
    },
    "tags": []
   },
   "source": [
    "<!--Empty Space for separating topics-->\n"
   ]
  },
  {
   "cell_type": "markdown",
   "id": "23035307",
   "metadata": {
    "papermill": {
     "duration": 0.037287,
     "end_time": "2022-02-23T11:10:31.877733",
     "exception": false,
     "start_time": "2022-02-23T11:10:31.840446",
     "status": "completed"
    },
    "tags": []
   },
   "source": [
    "We can apply the transform object every time we create a new <code>toy_set object</code>? Remember, we have the constructor in toy_set class with the parameter <code>transform = None</code>.\n",
    "When we create a new object using the constructor, we can assign the transform object to the parameter transform, as the following code demonstrates.\n"
   ]
  },
  {
   "cell_type": "code",
   "execution_count": 10,
   "id": "963e917b",
   "metadata": {
    "execution": {
     "iopub.execute_input": "2022-02-23T11:10:31.957523Z",
     "iopub.status.busy": "2022-02-23T11:10:31.956874Z",
     "iopub.status.idle": "2022-02-23T11:10:31.959547Z",
     "shell.execute_reply": "2022-02-23T11:10:31.959078Z",
     "shell.execute_reply.started": "2022-02-23T11:04:54.641257Z"
    },
    "papermill": {
     "duration": 0.043681,
     "end_time": "2022-02-23T11:10:31.959683",
     "exception": false,
     "start_time": "2022-02-23T11:10:31.916002",
     "status": "completed"
    },
    "tags": []
   },
   "outputs": [],
   "source": [
    "# Create a new data_set object with add_mult object as transform\n",
    "\n",
    "cust_data_set = toy_set(transform = a_m)"
   ]
  },
  {
   "cell_type": "markdown",
   "id": "fcf0fca4",
   "metadata": {
    "papermill": {
     "duration": 0.037448,
     "end_time": "2022-02-23T11:10:32.034812",
     "exception": false,
     "start_time": "2022-02-23T11:10:31.997364",
     "status": "completed"
    },
    "tags": []
   },
   "source": [
    "This applied <code>a_m</code> object (a transform method) to every element in <code>cust_data_set</code> as initialized. Let us print out the first 10 elements in <code>cust_data_set</code> in order to see whether the <code>a_m</code> applied on <code>cust_data_set</code>\n"
   ]
  },
  {
   "cell_type": "code",
   "execution_count": 11,
   "id": "4b52c780",
   "metadata": {
    "execution": {
     "iopub.execute_input": "2022-02-23T11:10:32.115879Z",
     "iopub.status.busy": "2022-02-23T11:10:32.114951Z",
     "iopub.status.idle": "2022-02-23T11:10:32.141979Z",
     "shell.execute_reply": "2022-02-23T11:10:32.142474Z",
     "shell.execute_reply.started": "2022-02-23T11:04:54.646618Z"
    },
    "papermill": {
     "duration": 0.070459,
     "end_time": "2022-02-23T11:10:32.142656",
     "exception": false,
     "start_time": "2022-02-23T11:10:32.072197",
     "status": "completed"
    },
    "tags": []
   },
   "outputs": [
    {
     "name": "stdout",
     "output_type": "stream",
     "text": [
      "Index:  0 Original x:  tensor([2., 2.]) Original y:  tensor([1.])\n",
      "Index:  0 Transformed x_: tensor([3., 3.]) Transformed y_: tensor([2.])\n",
      "Index:  1 Original x:  tensor([2., 2.]) Original y:  tensor([1.])\n",
      "Index:  1 Transformed x_: tensor([3., 3.]) Transformed y_: tensor([2.])\n",
      "Index:  2 Original x:  tensor([2., 2.]) Original y:  tensor([1.])\n",
      "Index:  2 Transformed x_: tensor([3., 3.]) Transformed y_: tensor([2.])\n",
      "Index:  3 Original x:  tensor([2., 2.]) Original y:  tensor([1.])\n",
      "Index:  3 Transformed x_: tensor([3., 3.]) Transformed y_: tensor([2.])\n",
      "Index:  4 Original x:  tensor([2., 2.]) Original y:  tensor([1.])\n",
      "Index:  4 Transformed x_: tensor([3., 3.]) Transformed y_: tensor([2.])\n",
      "Index:  5 Original x:  tensor([2., 2.]) Original y:  tensor([1.])\n",
      "Index:  5 Transformed x_: tensor([3., 3.]) Transformed y_: tensor([2.])\n",
      "Index:  6 Original x:  tensor([2., 2.]) Original y:  tensor([1.])\n",
      "Index:  6 Transformed x_: tensor([3., 3.]) Transformed y_: tensor([2.])\n",
      "Index:  7 Original x:  tensor([2., 2.]) Original y:  tensor([1.])\n",
      "Index:  7 Transformed x_: tensor([3., 3.]) Transformed y_: tensor([2.])\n",
      "Index:  8 Original x:  tensor([2., 2.]) Original y:  tensor([1.])\n",
      "Index:  8 Transformed x_: tensor([3., 3.]) Transformed y_: tensor([2.])\n",
      "Index:  9 Original x:  tensor([2., 2.]) Original y:  tensor([1.])\n",
      "Index:  9 Transformed x_: tensor([3., 3.]) Transformed y_: tensor([2.])\n"
     ]
    }
   ],
   "source": [
    "# Use loop to print out first 10 elements in dataset\n",
    "\n",
    "for i in range(10):\n",
    "    x, y = data_set[i]\n",
    "    print('Index: ', i, 'Original x: ', x, 'Original y: ', y)\n",
    "    x_, y_ = cust_data_set[i]\n",
    "    print('Index: ', i, 'Transformed x_:', x_, 'Transformed y_:', y_)"
   ]
  },
  {
   "cell_type": "markdown",
   "id": "acba07a7",
   "metadata": {
    "papermill": {
     "duration": 0.037582,
     "end_time": "2022-02-23T11:10:32.217892",
     "exception": false,
     "start_time": "2022-02-23T11:10:32.180310",
     "status": "completed"
    },
    "tags": []
   },
   "source": [
    "The result is the same as the previous method.\n"
   ]
  },
  {
   "cell_type": "markdown",
   "id": "2f6b26b8",
   "metadata": {
    "papermill": {
     "duration": 0.037634,
     "end_time": "2022-02-23T11:10:32.293126",
     "exception": false,
     "start_time": "2022-02-23T11:10:32.255492",
     "status": "completed"
    },
    "tags": []
   },
   "source": [
    "<!--Empty Space for separating topics-->\n"
   ]
  },
  {
   "cell_type": "code",
   "execution_count": 12,
   "id": "7daab2c1",
   "metadata": {
    "execution": {
     "iopub.execute_input": "2022-02-23T11:10:32.378708Z",
     "iopub.status.busy": "2022-02-23T11:10:32.371302Z",
     "iopub.status.idle": "2022-02-23T11:10:32.397269Z",
     "shell.execute_reply": "2022-02-23T11:10:32.397747Z",
     "shell.execute_reply.started": "2022-02-23T11:04:54.691607Z"
    },
    "papermill": {
     "duration": 0.066961,
     "end_time": "2022-02-23T11:10:32.397912",
     "exception": false,
     "start_time": "2022-02-23T11:10:32.330951",
     "status": "completed"
    },
    "tags": []
   },
   "outputs": [
    {
     "name": "stdout",
     "output_type": "stream",
     "text": [
      "The element  0 is: tensor([5., 5.]) tensor([7.])\n",
      "The element  1 is: tensor([5., 5.]) tensor([7.])\n",
      "The element  2 is: tensor([5., 5.]) tensor([7.])\n",
      "The element  3 is: tensor([5., 5.]) tensor([7.])\n",
      "The element  4 is: tensor([5., 5.]) tensor([7.])\n",
      "The element  5 is: tensor([5., 5.]) tensor([7.])\n",
      "The element  6 is: tensor([5., 5.]) tensor([7.])\n",
      "The element  7 is: tensor([5., 5.]) tensor([7.])\n",
      "The element  8 is: tensor([5., 5.]) tensor([7.])\n",
      "The element  9 is: tensor([5., 5.]) tensor([7.])\n",
      "The element  10 is: tensor([5., 5.]) tensor([7.])\n",
      "The element  11 is: tensor([5., 5.]) tensor([7.])\n",
      "The element  12 is: tensor([5., 5.]) tensor([7.])\n",
      "The element  13 is: tensor([5., 5.]) tensor([7.])\n",
      "The element  14 is: tensor([5., 5.]) tensor([7.])\n",
      "The element  15 is: tensor([5., 5.]) tensor([7.])\n",
      "The element  16 is: tensor([5., 5.]) tensor([7.])\n",
      "The element  17 is: tensor([5., 5.]) tensor([7.])\n",
      "The element  18 is: tensor([5., 5.]) tensor([7.])\n",
      "The element  19 is: tensor([5., 5.]) tensor([7.])\n"
     ]
    }
   ],
   "source": [
    "# Practice: Construct your own my_add_mult transform. Apply my_add_mult on a new toy_set object. Print out the first three elements from the transformed dataset.\n",
    "\n",
    "# Type your code here.\n",
    "\n",
    "class myAddMult(object):\n",
    "    \n",
    "    def __init__(self, sumx=1,multx=2,sumy=3,multy=4):\n",
    "        self.sumx = sumx;\n",
    "        self.sumy = sumy;\n",
    "        self.multx = multx;\n",
    "        self.multy = multy;\n",
    "    \n",
    "    def __call__(self, sample):\n",
    "        x,y = sample;\n",
    "        x = (x*self.multx)+self.sumx;\n",
    "        y = (y*self.multy)+self.sumy;\n",
    "        sample = x,y;\n",
    "        return sample\n",
    "\n",
    "\n",
    "\n",
    "\n",
    "\n",
    "    \n",
    "myTransfData = toy_set(length=20, transform=myAddMult());\n",
    "\n",
    "for i in range(20):\n",
    "    x_,y_ = myTransfData[i];\n",
    "    print(\"The element \",i,\"is:\",x_,y_);\n"
   ]
  },
  {
   "cell_type": "markdown",
   "id": "1cc305f4",
   "metadata": {
    "papermill": {
     "duration": 0.037873,
     "end_time": "2022-02-23T11:10:32.474003",
     "exception": false,
     "start_time": "2022-02-23T11:10:32.436130",
     "status": "completed"
    },
    "tags": []
   },
   "source": [
    "Double-click <b>here</b> for the solution.\n",
    "\n",
    "<!-- \n",
    "class my_add_mult(object):   \n",
    "    def __init__(self, add = 2, mul = 10):\n",
    "        self.add=add\n",
    "        self.mul=mul\n",
    "        \n",
    "    def __call__(self, sample):\n",
    "        x = sample[0]\n",
    "        y = sample[1]\n",
    "        x = x + self.add\n",
    "        y = y + self.add\n",
    "        x = x * self.mul\n",
    "        y = y * self.mul\n",
    "        sample = x, y\n",
    "        return sample\n",
    "        \n",
    "       \n",
    "my_dataset = toy_set(transform = my_add_mult())\n",
    "for i in range(3):\n",
    "    x_, y_ = my_dataset[i]\n",
    "    print('Index: ', i, 'Transformed x_:', x_, 'Transformed y_:', y_)\n",
    "    \n",
    " -->\n"
   ]
  },
  {
   "cell_type": "markdown",
   "id": "f07309f4",
   "metadata": {
    "papermill": {
     "duration": 0.038628,
     "end_time": "2022-02-23T11:10:32.552109",
     "exception": false,
     "start_time": "2022-02-23T11:10:32.513481",
     "status": "completed"
    },
    "tags": []
   },
   "source": [
    "<!--Empty Space for separating topics-->\n"
   ]
  },
  {
   "cell_type": "markdown",
   "id": "a558229c",
   "metadata": {
    "papermill": {
     "duration": 0.037764,
     "end_time": "2022-02-23T11:10:32.627992",
     "exception": false,
     "start_time": "2022-02-23T11:10:32.590228",
     "status": "completed"
    },
    "tags": []
   },
   "source": [
    "<h2 id=\"Compose\">Compose</h2>\n"
   ]
  },
  {
   "cell_type": "markdown",
   "id": "2022fcbf",
   "metadata": {
    "papermill": {
     "duration": 0.037664,
     "end_time": "2022-02-23T11:10:32.703701",
     "exception": false,
     "start_time": "2022-02-23T11:10:32.666037",
     "status": "completed"
    },
    "tags": []
   },
   "source": [
    "You can compose multiple transforms on the dataset object. First, import <code>transforms</code> from <code>torchvision</code>:\n"
   ]
  },
  {
   "cell_type": "code",
   "execution_count": 13,
   "id": "361de6cc",
   "metadata": {
    "execution": {
     "iopub.execute_input": "2022-02-23T11:10:32.785730Z",
     "iopub.status.busy": "2022-02-23T11:10:32.785001Z",
     "iopub.status.idle": "2022-02-23T11:10:32.998701Z",
     "shell.execute_reply": "2022-02-23T11:10:32.998155Z",
     "shell.execute_reply.started": "2022-02-23T11:04:54.735649Z"
    },
    "papermill": {
     "duration": 0.256463,
     "end_time": "2022-02-23T11:10:32.998838",
     "exception": false,
     "start_time": "2022-02-23T11:10:32.742375",
     "status": "completed"
    },
    "tags": []
   },
   "outputs": [],
   "source": [
    "# Run the command below when you do not have torchvision installed\n",
    "# !mamba install -y torchvision\n",
    "\n",
    "from torchvision import transforms"
   ]
  },
  {
   "cell_type": "markdown",
   "id": "d1d1e186",
   "metadata": {
    "papermill": {
     "duration": 0.0388,
     "end_time": "2022-02-23T11:10:33.076018",
     "exception": false,
     "start_time": "2022-02-23T11:10:33.037218",
     "status": "completed"
    },
    "tags": []
   },
   "source": [
    "Then, create a new transform class that multiplies each of the elements by 100:\n"
   ]
  },
  {
   "cell_type": "code",
   "execution_count": 14,
   "id": "cd8fd028",
   "metadata": {
    "execution": {
     "iopub.execute_input": "2022-02-23T11:10:33.158337Z",
     "iopub.status.busy": "2022-02-23T11:10:33.157607Z",
     "iopub.status.idle": "2022-02-23T11:10:33.160391Z",
     "shell.execute_reply": "2022-02-23T11:10:33.159821Z",
     "shell.execute_reply.started": "2022-02-23T11:04:54.969804Z"
    },
    "papermill": {
     "duration": 0.046604,
     "end_time": "2022-02-23T11:10:33.160553",
     "exception": false,
     "start_time": "2022-02-23T11:10:33.113949",
     "status": "completed"
    },
    "tags": []
   },
   "outputs": [],
   "source": [
    "# Create tranform class mult\n",
    "\n",
    "class mult(object):\n",
    "    \n",
    "    # Constructor\n",
    "    def __init__(self, mult = 100):\n",
    "        self.mult = mult\n",
    "        \n",
    "    # Executor\n",
    "    def __call__(self, sample):\n",
    "        x = sample[0]\n",
    "        y = sample[1]\n",
    "        x = x * self.mult\n",
    "        y = y * self.mult\n",
    "        sample = x, y\n",
    "        return sample"
   ]
  },
  {
   "cell_type": "markdown",
   "id": "f88ee765",
   "metadata": {
    "papermill": {
     "duration": 0.03767,
     "end_time": "2022-02-23T11:10:33.236886",
     "exception": false,
     "start_time": "2022-02-23T11:10:33.199216",
     "status": "completed"
    },
    "tags": []
   },
   "source": [
    "Now let us try to combine the transforms <code>add_mult</code> and <code>mult</code>\n"
   ]
  },
  {
   "cell_type": "code",
   "execution_count": 15,
   "id": "a4da9cf3",
   "metadata": {
    "execution": {
     "iopub.execute_input": "2022-02-23T11:10:33.317998Z",
     "iopub.status.busy": "2022-02-23T11:10:33.317094Z",
     "iopub.status.idle": "2022-02-23T11:10:33.321012Z",
     "shell.execute_reply": "2022-02-23T11:10:33.320411Z",
     "shell.execute_reply.started": "2022-02-23T11:04:54.978052Z"
    },
    "papermill": {
     "duration": 0.046274,
     "end_time": "2022-02-23T11:10:33.321142",
     "exception": false,
     "start_time": "2022-02-23T11:10:33.274868",
     "status": "completed"
    },
    "tags": []
   },
   "outputs": [
    {
     "name": "stdout",
     "output_type": "stream",
     "text": [
      "The combination of transforms (Compose):  Compose(\n",
      "    <__main__.add_mult object at 0x7fabf40fc610>\n",
      "    <__main__.mult object at 0x7fabf40fc710>\n",
      ")\n"
     ]
    }
   ],
   "source": [
    "# Combine the add_mult() and mult()\n",
    "\n",
    "data_transform = transforms.Compose([add_mult(), mult()])\n",
    "print(\"The combination of transforms (Compose): \", data_transform)\n"
   ]
  },
  {
   "cell_type": "markdown",
   "id": "e75bd64e",
   "metadata": {
    "papermill": {
     "duration": 0.038139,
     "end_time": "2022-02-23T11:10:33.397588",
     "exception": false,
     "start_time": "2022-02-23T11:10:33.359449",
     "status": "completed"
    },
    "tags": []
   },
   "source": [
    "The new <code>Compose</code> object will perform each transform concurrently as shown in this figure:\n"
   ]
  },
  {
   "cell_type": "markdown",
   "id": "9fd1b739",
   "metadata": {
    "papermill": {
     "duration": 0.038917,
     "end_time": "2022-02-23T11:10:33.474792",
     "exception": false,
     "start_time": "2022-02-23T11:10:33.435875",
     "status": "completed"
    },
    "tags": []
   },
   "source": [
    "<img src=\"https://s3-api.us-geo.objectstorage.softlayer.net/cf-courses-data/CognitiveClass/DL0110EN/notebook_images%20/chapter%201/1.3.1_trasform.png\" width=\"500\" alt=\"Compose PyTorch\">\n"
   ]
  },
  {
   "cell_type": "code",
   "execution_count": 16,
   "id": "42f606a1",
   "metadata": {
    "execution": {
     "iopub.execute_input": "2022-02-23T11:10:33.557625Z",
     "iopub.status.busy": "2022-02-23T11:10:33.556942Z",
     "iopub.status.idle": "2022-02-23T11:10:33.560089Z",
     "shell.execute_reply": "2022-02-23T11:10:33.559664Z",
     "shell.execute_reply.started": "2022-02-23T11:04:54.993274Z"
    },
    "papermill": {
     "duration": 0.047226,
     "end_time": "2022-02-23T11:10:33.560215",
     "exception": false,
     "start_time": "2022-02-23T11:10:33.512989",
     "status": "completed"
    },
    "tags": []
   },
   "outputs": [
    {
     "data": {
      "text/plain": [
       "(tensor([300., 300.]), tensor([200.]))"
      ]
     },
     "execution_count": 16,
     "metadata": {},
     "output_type": "execute_result"
    }
   ],
   "source": [
    "data_transform(data_set[0])"
   ]
  },
  {
   "cell_type": "code",
   "execution_count": 17,
   "id": "6922c8e0",
   "metadata": {
    "execution": {
     "iopub.execute_input": "2022-02-23T11:10:33.644441Z",
     "iopub.status.busy": "2022-02-23T11:10:33.643565Z",
     "iopub.status.idle": "2022-02-23T11:10:33.649704Z",
     "shell.execute_reply": "2022-02-23T11:10:33.650094Z",
     "shell.execute_reply.started": "2022-02-23T11:04:55.005286Z"
    },
    "papermill": {
     "duration": 0.050906,
     "end_time": "2022-02-23T11:10:33.650269",
     "exception": false,
     "start_time": "2022-02-23T11:10:33.599363",
     "status": "completed"
    },
    "tags": []
   },
   "outputs": [
    {
     "name": "stdout",
     "output_type": "stream",
     "text": [
      "Original x:  tensor([2., 2.]) Original y:  tensor([1.])\n",
      "Transformed x_: tensor([300., 300.]) Transformed y_: tensor([200.])\n"
     ]
    }
   ],
   "source": [
    "x,y=data_set[0]\n",
    "x_,y_=data_transform(data_set[0])\n",
    "print( 'Original x: ', x, 'Original y: ', y)\n",
    "\n",
    "print( 'Transformed x_:', x_, 'Transformed y_:', y_)"
   ]
  },
  {
   "cell_type": "markdown",
   "id": "b9424786",
   "metadata": {
    "papermill": {
     "duration": 0.038737,
     "end_time": "2022-02-23T11:10:33.728240",
     "exception": false,
     "start_time": "2022-02-23T11:10:33.689503",
     "status": "completed"
    },
    "tags": []
   },
   "source": [
    "Now we can pass the new <code>Compose</code> object (The combination of methods <code>add_mult()</code> and <code>mult</code>) to the constructor for creating <code>toy_set</code> object.\n"
   ]
  },
  {
   "cell_type": "code",
   "execution_count": 18,
   "id": "901186c2",
   "metadata": {
    "execution": {
     "iopub.execute_input": "2022-02-23T11:10:33.810791Z",
     "iopub.status.busy": "2022-02-23T11:10:33.809971Z",
     "iopub.status.idle": "2022-02-23T11:10:33.812459Z",
     "shell.execute_reply": "2022-02-23T11:10:33.812885Z",
     "shell.execute_reply.started": "2022-02-23T11:04:55.025511Z"
    },
    "papermill": {
     "duration": 0.045884,
     "end_time": "2022-02-23T11:10:33.813044",
     "exception": false,
     "start_time": "2022-02-23T11:10:33.767160",
     "status": "completed"
    },
    "tags": []
   },
   "outputs": [],
   "source": [
    "# Create a new toy_set object with compose object as transform\n",
    "\n",
    "compose_data_set = toy_set(transform = data_transform)"
   ]
  },
  {
   "cell_type": "markdown",
   "id": "e53a2ea6",
   "metadata": {
    "papermill": {
     "duration": 0.03961,
     "end_time": "2022-02-23T11:10:33.892714",
     "exception": false,
     "start_time": "2022-02-23T11:10:33.853104",
     "status": "completed"
    },
    "tags": []
   },
   "source": [
    "Let us print out the first 3 elements in different <code>toy_set</code> datasets in order to compare the output after different transforms have been applied:\n"
   ]
  },
  {
   "cell_type": "code",
   "execution_count": 19,
   "id": "8ca34708",
   "metadata": {
    "execution": {
     "iopub.execute_input": "2022-02-23T11:10:33.983716Z",
     "iopub.status.busy": "2022-02-23T11:10:33.982969Z",
     "iopub.status.idle": "2022-02-23T11:10:33.989364Z",
     "shell.execute_reply": "2022-02-23T11:10:33.988765Z",
     "shell.execute_reply.started": "2022-02-23T11:04:55.035924Z"
    },
    "papermill": {
     "duration": 0.056766,
     "end_time": "2022-02-23T11:10:33.989516",
     "exception": false,
     "start_time": "2022-02-23T11:10:33.932750",
     "status": "completed"
    },
    "tags": []
   },
   "outputs": [
    {
     "name": "stdout",
     "output_type": "stream",
     "text": [
      "Index:  0 Original x:  tensor([2., 2.]) Original y:  tensor([1.])\n",
      "Index:  0 Transformed x_: tensor([3., 3.]) Transformed y_: tensor([2.])\n",
      "Index:  0 Compose Transformed x_co:  tensor([300., 300.]) Compose Transformed y_co:  tensor([200.])\n",
      "Index:  1 Original x:  tensor([2., 2.]) Original y:  tensor([1.])\n",
      "Index:  1 Transformed x_: tensor([3., 3.]) Transformed y_: tensor([2.])\n",
      "Index:  1 Compose Transformed x_co:  tensor([300., 300.]) Compose Transformed y_co:  tensor([200.])\n",
      "Index:  2 Original x:  tensor([2., 2.]) Original y:  tensor([1.])\n",
      "Index:  2 Transformed x_: tensor([3., 3.]) Transformed y_: tensor([2.])\n",
      "Index:  2 Compose Transformed x_co:  tensor([300., 300.]) Compose Transformed y_co:  tensor([200.])\n"
     ]
    }
   ],
   "source": [
    "# Use loop to print out first 3 elements in dataset\n",
    "\n",
    "for i in range(3):\n",
    "    x, y = data_set[i]\n",
    "    print('Index: ', i, 'Original x: ', x, 'Original y: ', y)\n",
    "    x_, y_ = cust_data_set[i]\n",
    "    print('Index: ', i, 'Transformed x_:', x_, 'Transformed y_:', y_)\n",
    "    x_co, y_co = compose_data_set[i]\n",
    "    print('Index: ', i, 'Compose Transformed x_co: ', x_co ,'Compose Transformed y_co: ',y_co)"
   ]
  },
  {
   "cell_type": "markdown",
   "id": "58ce3727",
   "metadata": {
    "papermill": {
     "duration": 0.039343,
     "end_time": "2022-02-23T11:10:34.068504",
     "exception": false,
     "start_time": "2022-02-23T11:10:34.029161",
     "status": "completed"
    },
    "tags": []
   },
   "source": [
    "Let us see what happened on index 0. The original value of <code>x</code> is <i>\\[2, 2]</i>, and the original value of <code>y</code> is \\[1]. If we only applied <code>add_mult()</code> on the original dataset, then the <code>x</code> became <i>\\[3, 3]</i> and y became <i>\\[2]</i>. Now let us see what is the value after applied both <code>add_mult()</code> and <code>mult()</code>. The result of x is <i>\\[300, 300]</i> and y is <i>\\[200]</i>. The calculation which is equavalent to the compose is <i> x = (\\[2, 2] + 1) x 100 = \\[300, 300], y = (\\[1] x 2) x 100 = 200</i>\n"
   ]
  },
  {
   "cell_type": "markdown",
   "id": "be63377e",
   "metadata": {
    "papermill": {
     "duration": 0.039253,
     "end_time": "2022-02-23T11:10:34.148369",
     "exception": false,
     "start_time": "2022-02-23T11:10:34.109116",
     "status": "completed"
    },
    "tags": []
   },
   "source": [
    "<h3>Practice</h3>\n"
   ]
  },
  {
   "cell_type": "markdown",
   "id": "fbc3cd4c",
   "metadata": {
    "papermill": {
     "duration": 0.039116,
     "end_time": "2022-02-23T11:10:34.226963",
     "exception": false,
     "start_time": "2022-02-23T11:10:34.187847",
     "status": "completed"
    },
    "tags": []
   },
   "source": [
    "Try to combine the <code>mult()</code> and <code>add_mult()</code> as <code>mult()</code> to be executed first. And apply this on a new <code>toy_set</code> dataset. Print out the first 3 elements in the transformed dataset.\n"
   ]
  },
  {
   "cell_type": "code",
   "execution_count": 20,
   "id": "2f3fa1b6",
   "metadata": {
    "execution": {
     "iopub.execute_input": "2022-02-23T11:10:34.313016Z",
     "iopub.status.busy": "2022-02-23T11:10:34.312436Z",
     "iopub.status.idle": "2022-02-23T11:10:34.316222Z",
     "shell.execute_reply": "2022-02-23T11:10:34.315780Z",
     "shell.execute_reply.started": "2022-02-23T11:05:21.570923Z"
    },
    "papermill": {
     "duration": 0.049744,
     "end_time": "2022-02-23T11:10:34.316354",
     "exception": false,
     "start_time": "2022-02-23T11:10:34.266610",
     "status": "completed"
    },
    "tags": []
   },
   "outputs": [
    {
     "name": "stdout",
     "output_type": "stream",
     "text": [
      "The  0  element is: tensor([201., 201.]) tensor([200.])\n",
      "The  1  element is: tensor([201., 201.]) tensor([200.])\n",
      "The  2  element is: tensor([201., 201.]) tensor([200.])\n"
     ]
    }
   ],
   "source": [
    "# Practice: Make a compose as mult() execute first and then add_mult(). Apply the compose on toy_set dataset. Print out the first 3 elements in the transformed dataset.\n",
    "\n",
    "# Type your code here.\n",
    "\n",
    "CompTransf = transforms.Compose([mult(),add_mult()]);\n",
    "\n",
    "newDataComp = toy_set(transform=CompTransf);\n",
    "\n",
    "\n",
    "for i in range(3):\n",
    "    x,y = newDataComp[i]\n",
    "    print(\"The \",i,\" element is:\",x,y)\n",
    "\n"
   ]
  },
  {
   "cell_type": "markdown",
   "id": "42e9c5ba",
   "metadata": {
    "papermill": {
     "duration": 0.039274,
     "end_time": "2022-02-23T11:10:34.395232",
     "exception": false,
     "start_time": "2022-02-23T11:10:34.355958",
     "status": "completed"
    },
    "tags": []
   },
   "source": [
    "Double-click <b>here</b> for the solution.\n",
    "\n",
    "<!--\n",
    "my_compose = transforms.Compose([mult(), add_mult()])\n",
    "my_transformed_dataset = toy_set(transform = my_compose)\n",
    "for i in range(3):\n",
    "    x_, y_ = my_transformed_dataset[i]\n",
    "    print('Index: ', i, 'Transformed x_:', x_, 'Transformed y_:', y_)\n",
    "-->"
   ]
  },
  {
   "cell_type": "markdown",
   "id": "0795d757",
   "metadata": {
    "papermill": {
     "duration": 0.039065,
     "end_time": "2022-02-23T11:10:34.473715",
     "exception": false,
     "start_time": "2022-02-23T11:10:34.434650",
     "status": "completed"
    },
    "tags": []
   },
   "source": [
    "<a href=\"https://dataplatform.cloud.ibm.com/registration/stepone?utm_medium=Exinfluencer&utm_source=Exinfluencer&utm_content=000026UJ&utm_term=10006555&utm_id=NA-SkillsNetwork-Channel-SkillsNetworkCoursesIBMDeveloperSkillsNetworkDL0110ENSkillsNetwork20647811-2021-01-01&context=cpdaas&apps=data_science_experience%2Cwatson_machine_learning\"><img src=\"https://cf-courses-data.s3.us.cloud-object-storage.appdomain.cloud/IBMDeveloperSkillsNetwork-DL0110EN-SkillsNetwork/Template/module%201/images/Watson_Studio.png\"/></a>\n"
   ]
  },
  {
   "cell_type": "markdown",
   "id": "034c79e8",
   "metadata": {
    "papermill": {
     "duration": 0.039194,
     "end_time": "2022-02-23T11:10:34.552499",
     "exception": false,
     "start_time": "2022-02-23T11:10:34.513305",
     "status": "completed"
    },
    "tags": []
   },
   "source": [
    "<h2>About the Authors:</h2> \n",
    "\n",
    "<a href=\"https://www.linkedin.com/in/joseph-s-50398b136/?utm_medium=Exinfluencer&utm_source=Exinfluencer&utm_content=000026UJ&utm_term=10006555&utm_id=NA-SkillsNetwork-Channel-SkillsNetworkCoursesIBMDeveloperSkillsNetworkDL0110ENSkillsNetwork20647811-2021-01-01\">Joseph Santarcangelo</a> has a PhD in Electrical Engineering, his research focused on using machine learning, signal processing, and computer vision to determine how videos impact human cognition. Joseph has been working for IBM since he completed his PhD.\n"
   ]
  },
  {
   "cell_type": "markdown",
   "id": "9dbf24d4",
   "metadata": {
    "papermill": {
     "duration": 0.039241,
     "end_time": "2022-02-23T11:10:34.631138",
     "exception": false,
     "start_time": "2022-02-23T11:10:34.591897",
     "status": "completed"
    },
    "tags": []
   },
   "source": [
    "Other contributors: <a href=\"https://www.linkedin.com/in/michelleccarey/?utm_medium=Exinfluencer&utm_source=Exinfluencer&utm_content=000026UJ&utm_term=10006555&utm_id=NA-SkillsNetwork-Channel-SkillsNetworkCoursesIBMDeveloperSkillsNetworkDL0110ENSkillsNetwork20647811-2021-01-01\">Michelle Carey</a>, <a href=\"https://www.linkedin.com/in/jiahui-mavis-zhou-a4537814a?utm_medium=Exinfluencer&utm_source=Exinfluencer&utm_content=000026UJ&utm_term=10006555&utm_id=NA-SkillsNetwork-Channel-SkillsNetworkCoursesIBMDeveloperSkillsNetworkDL0110ENSkillsNetwork20647811-2021-01-01\">Mavis Zhou</a>\n"
   ]
  },
  {
   "cell_type": "markdown",
   "id": "a2b987f1",
   "metadata": {
    "papermill": {
     "duration": 0.039116,
     "end_time": "2022-02-23T11:10:34.709614",
     "exception": false,
     "start_time": "2022-02-23T11:10:34.670498",
     "status": "completed"
    },
    "tags": []
   },
   "source": [
    "## Change Log\n",
    "\n",
    "| Date (YYYY-MM-DD) | Version | Changed By | Change Description                                          |\n",
    "| ----------------- | ------- | ---------- | ----------------------------------------------------------- |\n",
    "| 2020-09-21        | 2.0     | Shubham    | Migrated Lab to Markdown and added to course repo in GitLab |\n"
   ]
  },
  {
   "cell_type": "markdown",
   "id": "5373527e",
   "metadata": {
    "papermill": {
     "duration": 0.039221,
     "end_time": "2022-02-23T11:10:34.788353",
     "exception": false,
     "start_time": "2022-02-23T11:10:34.749132",
     "status": "completed"
    },
    "tags": []
   },
   "source": [
    "<hr>\n"
   ]
  },
  {
   "cell_type": "markdown",
   "id": "66bb71ac",
   "metadata": {
    "papermill": {
     "duration": 0.039194,
     "end_time": "2022-02-23T11:10:34.867043",
     "exception": false,
     "start_time": "2022-02-23T11:10:34.827849",
     "status": "completed"
    },
    "tags": []
   },
   "source": [
    "## <h3 align=\"center\"> © IBM Corporation 2020. All rights reserved. <h3/>\n"
   ]
  }
 ],
 "metadata": {
  "kernelspec": {
   "display_name": "Python 3",
   "language": "python",
   "name": "python3"
  },
  "language_info": {
   "codemirror_mode": {
    "name": "ipython",
    "version": 3
   },
   "file_extension": ".py",
   "mimetype": "text/x-python",
   "name": "python",
   "nbconvert_exporter": "python",
   "pygments_lexer": "ipython3",
   "version": "3.7.12"
  },
  "papermill": {
   "default_parameters": {},
   "duration": 16.231066,
   "end_time": "2022-02-23T11:10:35.616727",
   "environment_variables": {},
   "exception": null,
   "input_path": "__notebook__.ipynb",
   "output_path": "__notebook__.ipynb",
   "parameters": {},
   "start_time": "2022-02-23T11:10:19.385661",
   "version": "2.3.3"
  }
 },
 "nbformat": 4,
 "nbformat_minor": 5
}
