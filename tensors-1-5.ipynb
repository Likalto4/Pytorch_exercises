{
 "cells": [
  {
   "cell_type": "markdown",
   "id": "109223e9",
   "metadata": {
    "papermill": {
     "duration": 0.040446,
     "end_time": "2022-02-24T13:02:50.504863",
     "exception": false,
     "start_time": "2022-02-24T13:02:50.464417",
     "status": "completed"
    },
    "tags": []
   },
   "source": [
    "<center>\n",
    "    <img src=\"https://cf-courses-data.s3.us.cloud-object-storage.appdomain.cloud/IBMDeveloperSkillsNetwork-DL0110EN-SkillsNetwork/Template/module%201/images/IDSNlogo.png\" width=\"300\" alt=\"cognitiveclass.ai logo\"  />\n",
    "</center>\n"
   ]
  },
  {
   "cell_type": "markdown",
   "id": "c077f795",
   "metadata": {
    "papermill": {
     "duration": 0.038176,
     "end_time": "2022-02-24T13:02:50.583716",
     "exception": false,
     "start_time": "2022-02-24T13:02:50.545540",
     "status": "completed"
    },
    "tags": []
   },
   "source": [
    "<h1>Image Datasets and Transforms</h1> \n"
   ]
  },
  {
   "cell_type": "markdown",
   "id": "63aa749f",
   "metadata": {
    "papermill": {
     "duration": 0.038415,
     "end_time": "2022-02-24T13:02:50.660729",
     "exception": false,
     "start_time": "2022-02-24T13:02:50.622314",
     "status": "completed"
    },
    "tags": []
   },
   "source": [
    "<h2>Objective</h2><ul><li> How to build a image dataset object.</li><li> How to perform pre-build transforms from Torchvision Transforms to the dataset. .</li></ul> \n"
   ]
  },
  {
   "cell_type": "markdown",
   "id": "2fd64357",
   "metadata": {
    "papermill": {
     "duration": 0.038388,
     "end_time": "2022-02-24T13:02:50.737685",
     "exception": false,
     "start_time": "2022-02-24T13:02:50.699297",
     "status": "completed"
    },
    "tags": []
   },
   "source": [
    "<h2>Table of Contents</h2>\n",
    "<p>In this lab, you will build a dataset objects for images; many of the processes can be applied to a larger dataset. Then you will apply pre-build transforms from Torchvision Transforms to that dataset.</p>\n",
    "<ul>\n",
    "    <li><a href=\"https://#auxiliary\"> Auxiliary Functions </a></li>\n",
    "    <li><a href=\"https://#Dataset\"> Datasets</a></li>\n",
    "    <li><a href=\"https://#Torchvision\">Torchvision Transforms</a></li>\n",
    "</ul>\n",
    "<p>Estimated Time Needed: <strong>25 min</strong></p>\n",
    "\n",
    "<hr>\n"
   ]
  },
  {
   "cell_type": "markdown",
   "id": "6c4e5bca",
   "metadata": {
    "papermill": {
     "duration": 0.038218,
     "end_time": "2022-02-24T13:02:50.814535",
     "exception": false,
     "start_time": "2022-02-24T13:02:50.776317",
     "status": "completed"
    },
    "tags": []
   },
   "source": [
    "<h2>Preparation</h2>\n"
   ]
  },
  {
   "cell_type": "markdown",
   "id": "04685e73",
   "metadata": {
    "papermill": {
     "duration": 0.038957,
     "end_time": "2022-02-24T13:02:50.894873",
     "exception": false,
     "start_time": "2022-02-24T13:02:50.855916",
     "status": "completed"
    },
    "tags": []
   },
   "source": [
    "Download the dataset and unzip the files in your data directory, **to download faster this dataset has only 100 samples**:\n"
   ]
  },
  {
   "cell_type": "code",
   "execution_count": 1,
   "id": "730d70df",
   "metadata": {
    "execution": {
     "iopub.execute_input": "2022-02-24T13:02:50.976927Z",
     "iopub.status.busy": "2022-02-24T13:02:50.975856Z",
     "iopub.status.idle": "2022-02-24T13:02:53.392159Z",
     "shell.execute_reply": "2022-02-24T13:02:53.391515Z",
     "shell.execute_reply.started": "2022-02-24T12:25:00.985626Z"
    },
    "papermill": {
     "duration": 2.458518,
     "end_time": "2022-02-24T13:02:53.392332",
     "exception": false,
     "start_time": "2022-02-24T13:02:50.933814",
     "status": "completed"
    },
    "tags": []
   },
   "outputs": [
    {
     "name": "stdout",
     "output_type": "stream",
     "text": [
      "--2022-02-24 13:02:51--  https://cf-courses-data.s3.us.cloud-object-storage.appdomain.cloud/IBMDeveloperSkillsNetwork-DL0110EN-SkillsNetwork/labs/Week1/data/img.tar.gz\r\n",
      "Resolving cf-courses-data.s3.us.cloud-object-storage.appdomain.cloud (cf-courses-data.s3.us.cloud-object-storage.appdomain.cloud)... 169.45.118.108\r\n",
      "Connecting to cf-courses-data.s3.us.cloud-object-storage.appdomain.cloud (cf-courses-data.s3.us.cloud-object-storage.appdomain.cloud)|169.45.118.108|:443... connected.\r\n",
      "HTTP request sent, awaiting response... 200 OK\r\n",
      "Length: 50460 (49K) [application/x-tar]\r\n",
      "Saving to: ‘/resources/data/img.tar.gz’\r\n",
      "\r\n",
      "img.tar.gz          100%[===================>]  49.28K   164KB/s    in 0.3s    \r\n",
      "\r\n",
      "2022-02-24 13:02:53 (164 KB/s) - ‘/resources/data/img.tar.gz’ saved [50460/50460]\r\n",
      "\r\n"
     ]
    }
   ],
   "source": [
    "! wget https://cf-courses-data.s3.us.cloud-object-storage.appdomain.cloud/IBMDeveloperSkillsNetwork-DL0110EN-SkillsNetwork/labs/Week1/data/img.tar.gz -P /resources/data\n"
   ]
  },
  {
   "cell_type": "code",
   "execution_count": 2,
   "id": "ab5bea43",
   "metadata": {
    "execution": {
     "iopub.execute_input": "2022-02-24T13:02:53.513274Z",
     "iopub.status.busy": "2022-02-24T13:02:53.512581Z",
     "iopub.status.idle": "2022-02-24T13:02:54.301439Z",
     "shell.execute_reply": "2022-02-24T13:02:54.300859Z",
     "shell.execute_reply.started": "2022-02-24T12:25:13.267179Z"
    },
    "papermill": {
     "duration": 0.85569,
     "end_time": "2022-02-24T13:02:54.301583",
     "exception": false,
     "start_time": "2022-02-24T13:02:53.445893",
     "status": "completed"
    },
    "tags": []
   },
   "outputs": [],
   "source": [
    "#Extract images\n",
    "\n",
    "!tar -xf /resources/data/img.tar.gz "
   ]
  },
  {
   "cell_type": "code",
   "execution_count": 3,
   "id": "96cbe19c",
   "metadata": {
    "execution": {
     "iopub.execute_input": "2022-02-24T13:02:54.394159Z",
     "iopub.status.busy": "2022-02-24T13:02:54.389313Z",
     "iopub.status.idle": "2022-02-24T13:03:00.441588Z",
     "shell.execute_reply": "2022-02-24T13:03:00.440621Z",
     "shell.execute_reply.started": "2022-02-24T12:25:44.345388Z"
    },
    "papermill": {
     "duration": 6.099199,
     "end_time": "2022-02-24T13:03:00.441766",
     "exception": false,
     "start_time": "2022-02-24T13:02:54.342567",
     "status": "completed"
    },
    "tags": []
   },
   "outputs": [
    {
     "name": "stdout",
     "output_type": "stream",
     "text": [
      "--2022-02-24 13:02:55--  https://cf-courses-data.s3.us.cloud-object-storage.appdomain.cloud/IBMDeveloperSkillsNetwork-DL0110EN-SkillsNetwork/labs/Week1/data/index.csv\r\n",
      "Resolving cf-courses-data.s3.us.cloud-object-storage.appdomain.cloud (cf-courses-data.s3.us.cloud-object-storage.appdomain.cloud)... 169.45.118.108\r\n",
      "Connecting to cf-courses-data.s3.us.cloud-object-storage.appdomain.cloud (cf-courses-data.s3.us.cloud-object-storage.appdomain.cloud)|169.45.118.108|:443... connected.\r\n",
      "HTTP request sent, awaiting response... 200 OK\r\n",
      "Length: 1680905 (1.6M) [text/csv]\r\n",
      "Saving to: ‘index.csv’\r\n",
      "\r\n",
      "index.csv           100%[===================>]   1.60M   425KB/s    in 3.9s    \r\n",
      "\r\n",
      "2022-02-24 13:03:00 (425 KB/s) - ‘index.csv’ saved [1680905/1680905]\r\n",
      "\r\n"
     ]
    }
   ],
   "source": [
    "#Extract csv file\n",
    "!wget https://cf-courses-data.s3.us.cloud-object-storage.appdomain.cloud/IBMDeveloperSkillsNetwork-DL0110EN-SkillsNetwork/labs/Week1/data/index.csv "
   ]
  },
  {
   "cell_type": "markdown",
   "id": "729df745",
   "metadata": {
    "papermill": {
     "duration": 0.046123,
     "end_time": "2022-02-24T13:03:00.534098",
     "exception": false,
     "start_time": "2022-02-24T13:03:00.487975",
     "status": "completed"
    },
    "tags": []
   },
   "source": [
    "We will use this function in the lab:\n"
   ]
  },
  {
   "cell_type": "code",
   "execution_count": 4,
   "id": "72760b39",
   "metadata": {
    "execution": {
     "iopub.execute_input": "2022-02-24T13:03:00.628586Z",
     "iopub.status.busy": "2022-02-24T13:03:00.627713Z",
     "iopub.status.idle": "2022-02-24T13:03:00.632329Z",
     "shell.execute_reply": "2022-02-24T13:03:00.632855Z",
     "shell.execute_reply.started": "2022-02-24T12:26:20.147848Z"
    },
    "papermill": {
     "duration": 0.053512,
     "end_time": "2022-02-24T13:03:00.633009",
     "exception": false,
     "start_time": "2022-02-24T13:03:00.579497",
     "status": "completed"
    },
    "tags": []
   },
   "outputs": [],
   "source": [
    "#Function to print image data\n",
    "def show_data(data_sample, shape = (28, 28)):\n",
    "    plt.imshow(data_sample[0].numpy().reshape(shape), cmap='gray')\n",
    "    plt.title('y = ' + data_sample[1])"
   ]
  },
  {
   "cell_type": "markdown",
   "id": "9b3644ad",
   "metadata": {
    "papermill": {
     "duration": 0.044994,
     "end_time": "2022-02-24T13:03:00.723899",
     "exception": false,
     "start_time": "2022-02-24T13:03:00.678905",
     "status": "completed"
    },
    "tags": []
   },
   "source": [
    "The following are the libraries we are going to use for this lab. The <code>torch.manual_seed()</code> is for forcing the random function to give the same number every time we try to recompile it.\n"
   ]
  },
  {
   "cell_type": "code",
   "execution_count": 5,
   "id": "124dcfbe",
   "metadata": {
    "execution": {
     "iopub.execute_input": "2022-02-24T13:03:00.818818Z",
     "iopub.status.busy": "2022-02-24T13:03:00.817880Z",
     "iopub.status.idle": "2022-02-24T13:03:01.936716Z",
     "shell.execute_reply": "2022-02-24T13:03:01.937165Z",
     "shell.execute_reply.started": "2022-02-24T12:27:02.025745Z"
    },
    "papermill": {
     "duration": 1.16793,
     "end_time": "2022-02-24T13:03:01.937333",
     "exception": false,
     "start_time": "2022-02-24T13:03:00.769403",
     "status": "completed"
    },
    "tags": []
   },
   "outputs": [
    {
     "data": {
      "text/plain": [
       "<torch._C.Generator at 0x7f6aac0d11b0>"
      ]
     },
     "execution_count": 5,
     "metadata": {},
     "output_type": "execute_result"
    }
   ],
   "source": [
    "# These are the libraries will be used for this lab.\n",
    "\n",
    "import torch \n",
    "import matplotlib.pylab as plt\n",
    "import numpy as np\n",
    "from torch.utils.data import Dataset, DataLoader\n",
    "torch.manual_seed(0)"
   ]
  },
  {
   "cell_type": "code",
   "execution_count": 6,
   "id": "ac157997",
   "metadata": {
    "execution": {
     "iopub.execute_input": "2022-02-24T13:03:02.035776Z",
     "iopub.status.busy": "2022-02-24T13:03:02.034821Z",
     "iopub.status.idle": "2022-02-24T13:03:02.038977Z",
     "shell.execute_reply": "2022-02-24T13:03:02.039508Z",
     "shell.execute_reply.started": "2022-02-24T12:30:09.226547Z"
    },
    "papermill": {
     "duration": 0.055592,
     "end_time": "2022-02-24T13:03:02.039671",
     "exception": false,
     "start_time": "2022-02-24T13:03:01.984079",
     "status": "completed"
    },
    "tags": []
   },
   "outputs": [],
   "source": [
    "from matplotlib.pyplot import imshow\n",
    "import matplotlib.pylab as plt\n",
    "from PIL import Image\n",
    "import pandas as pd\n",
    "import os"
   ]
  },
  {
   "cell_type": "markdown",
   "id": "d5f5a276",
   "metadata": {
    "papermill": {
     "duration": 0.04649,
     "end_time": "2022-02-24T13:03:02.132618",
     "exception": false,
     "start_time": "2022-02-24T13:03:02.086128",
     "status": "completed"
    },
    "tags": []
   },
   "source": [
    "<!--Empty Space for separating topics-->\n"
   ]
  },
  {
   "cell_type": "markdown",
   "id": "3671715c",
   "metadata": {
    "papermill": {
     "duration": 0.046232,
     "end_time": "2022-02-24T13:03:02.225118",
     "exception": false,
     "start_time": "2022-02-24T13:03:02.178886",
     "status": "completed"
    },
    "tags": []
   },
   "source": [
    "<h2 id=\"auxiliary\">Auxiliary Functions</h2>\n"
   ]
  },
  {
   "cell_type": "markdown",
   "id": "ecdb2d35",
   "metadata": {
    "papermill": {
     "duration": 0.046448,
     "end_time": "2022-02-24T13:03:02.317859",
     "exception": false,
     "start_time": "2022-02-24T13:03:02.271411",
     "status": "completed"
    },
    "tags": []
   },
   "source": [
    "You will use the following function as components of a dataset object, in this section, you will review each of the components independently.\n"
   ]
  },
  {
   "cell_type": "markdown",
   "id": "8646b624",
   "metadata": {
    "papermill": {
     "duration": 0.045775,
     "end_time": "2022-02-24T13:03:02.409449",
     "exception": false,
     "start_time": "2022-02-24T13:03:02.363674",
     "status": "completed"
    },
    "tags": []
   },
   "source": [
    "The path to the csv file with the labels for each image.\n"
   ]
  },
  {
   "cell_type": "code",
   "execution_count": 7,
   "id": "e72f4585",
   "metadata": {
    "execution": {
     "iopub.execute_input": "2022-02-24T13:03:02.507287Z",
     "iopub.status.busy": "2022-02-24T13:03:02.506424Z",
     "iopub.status.idle": "2022-02-24T13:03:02.508782Z",
     "shell.execute_reply": "2022-02-24T13:03:02.509283Z",
     "shell.execute_reply.started": "2022-02-24T12:30:18.586427Z"
    },
    "papermill": {
     "duration": 0.053468,
     "end_time": "2022-02-24T13:03:02.509448",
     "exception": false,
     "start_time": "2022-02-24T13:03:02.455980",
     "status": "completed"
    },
    "tags": []
   },
   "outputs": [],
   "source": [
    "# Read CSV file from the URL and print out the first five samples\n",
    "directory=\"\"\n",
    "csv_file ='index.csv'\n",
    "csv_path=os.path.join(directory,csv_file)"
   ]
  },
  {
   "cell_type": "markdown",
   "id": "d4edcdca",
   "metadata": {
    "papermill": {
     "duration": 0.047269,
     "end_time": "2022-02-24T13:03:02.602541",
     "exception": false,
     "start_time": "2022-02-24T13:03:02.555272",
     "status": "completed"
    },
    "tags": []
   },
   "source": [
    "You can load the CSV file and convert it into a dataframe , using the Pandas function <code>read_csv()</code> . You can view the dataframe using the method head.\n"
   ]
  },
  {
   "cell_type": "code",
   "execution_count": 8,
   "id": "5b8cedcd",
   "metadata": {
    "execution": {
     "iopub.execute_input": "2022-02-24T13:03:02.700809Z",
     "iopub.status.busy": "2022-02-24T13:03:02.699891Z",
     "iopub.status.idle": "2022-02-24T13:03:02.766818Z",
     "shell.execute_reply": "2022-02-24T13:03:02.767253Z",
     "shell.execute_reply.started": "2022-02-24T12:30:47.946506Z"
    },
    "papermill": {
     "duration": 0.117245,
     "end_time": "2022-02-24T13:03:02.767424",
     "exception": false,
     "start_time": "2022-02-24T13:03:02.650179",
     "status": "completed"
    },
    "tags": []
   },
   "outputs": [
    {
     "data": {
      "text/html": [
       "<div>\n",
       "<style scoped>\n",
       "    .dataframe tbody tr th:only-of-type {\n",
       "        vertical-align: middle;\n",
       "    }\n",
       "\n",
       "    .dataframe tbody tr th {\n",
       "        vertical-align: top;\n",
       "    }\n",
       "\n",
       "    .dataframe thead th {\n",
       "        text-align: right;\n",
       "    }\n",
       "</style>\n",
       "<table border=\"1\" class=\"dataframe\">\n",
       "  <thead>\n",
       "    <tr style=\"text-align: right;\">\n",
       "      <th></th>\n",
       "      <th>category</th>\n",
       "      <th>image</th>\n",
       "    </tr>\n",
       "  </thead>\n",
       "  <tbody>\n",
       "    <tr>\n",
       "      <th>0</th>\n",
       "      <td>Ankle boot</td>\n",
       "      <td>img/fashion0.png</td>\n",
       "    </tr>\n",
       "    <tr>\n",
       "      <th>1</th>\n",
       "      <td>T-shirt</td>\n",
       "      <td>img/fashion1.png</td>\n",
       "    </tr>\n",
       "    <tr>\n",
       "      <th>2</th>\n",
       "      <td>T-shirt</td>\n",
       "      <td>img/fashion2.png</td>\n",
       "    </tr>\n",
       "    <tr>\n",
       "      <th>3</th>\n",
       "      <td>Dress</td>\n",
       "      <td>img/fashion3.png</td>\n",
       "    </tr>\n",
       "    <tr>\n",
       "      <th>4</th>\n",
       "      <td>T-shirt</td>\n",
       "      <td>img/fashion4.png</td>\n",
       "    </tr>\n",
       "  </tbody>\n",
       "</table>\n",
       "</div>"
      ],
      "text/plain": [
       "     category             image\n",
       "0  Ankle boot  img/fashion0.png\n",
       "1     T-shirt  img/fashion1.png\n",
       "2     T-shirt  img/fashion2.png\n",
       "3       Dress  img/fashion3.png\n",
       "4     T-shirt  img/fashion4.png"
      ]
     },
     "execution_count": 8,
     "metadata": {},
     "output_type": "execute_result"
    }
   ],
   "source": [
    "data_name = pd.read_csv(csv_path)\n",
    "data_name.head()"
   ]
  },
  {
   "cell_type": "markdown",
   "id": "fcb5c1ec",
   "metadata": {
    "papermill": {
     "duration": 0.047084,
     "end_time": "2022-02-24T13:03:02.862786",
     "exception": false,
     "start_time": "2022-02-24T13:03:02.815702",
     "status": "completed"
    },
    "tags": []
   },
   "source": [
    "The first column of the dataframe corresponds to the type of clothing. The second column is the name of the image file corresponding to the clothing. You can obtain the path of the first file by using the method  <code> <i>DATAFRAME</i>.iloc\\[0, 1]</code>. The first argument corresponds to the sample number, and the second input corresponds to the column index.\n"
   ]
  },
  {
   "cell_type": "code",
   "execution_count": 9,
   "id": "09ffefe5",
   "metadata": {
    "execution": {
     "iopub.execute_input": "2022-02-24T13:03:02.961774Z",
     "iopub.status.busy": "2022-02-24T13:03:02.961105Z",
     "iopub.status.idle": "2022-02-24T13:03:02.964363Z",
     "shell.execute_reply": "2022-02-24T13:03:02.963858Z",
     "shell.execute_reply.started": "2022-02-24T12:31:06.505764Z"
    },
    "papermill": {
     "duration": 0.054991,
     "end_time": "2022-02-24T13:03:02.964498",
     "exception": false,
     "start_time": "2022-02-24T13:03:02.909507",
     "status": "completed"
    },
    "tags": []
   },
   "outputs": [
    {
     "name": "stdout",
     "output_type": "stream",
     "text": [
      "File name: img/fashion0.png\n"
     ]
    }
   ],
   "source": [
    "# Get the value on location row 0, column 1 (Notice that index starts at 0)\n",
    "#rember this dataset has only 100 samples to make the download faster  \n",
    "print('File name:', data_name.iloc[0, 1])"
   ]
  },
  {
   "cell_type": "markdown",
   "id": "ee85ad91",
   "metadata": {
    "papermill": {
     "duration": 0.04617,
     "end_time": "2022-02-24T13:03:03.057503",
     "exception": false,
     "start_time": "2022-02-24T13:03:03.011333",
     "status": "completed"
    },
    "tags": []
   },
   "source": [
    "As the class of the sample is in the first column, you can also obtain the class value as follows.\n"
   ]
  },
  {
   "cell_type": "code",
   "execution_count": 10,
   "id": "01900bc4",
   "metadata": {
    "execution": {
     "iopub.execute_input": "2022-02-24T13:03:03.156865Z",
     "iopub.status.busy": "2022-02-24T13:03:03.155906Z",
     "iopub.status.idle": "2022-02-24T13:03:03.159944Z",
     "shell.execute_reply": "2022-02-24T13:03:03.159385Z",
     "shell.execute_reply.started": "2022-02-24T12:31:13.025007Z"
    },
    "papermill": {
     "duration": 0.055169,
     "end_time": "2022-02-24T13:03:03.160098",
     "exception": false,
     "start_time": "2022-02-24T13:03:03.104929",
     "status": "completed"
    },
    "tags": []
   },
   "outputs": [
    {
     "name": "stdout",
     "output_type": "stream",
     "text": [
      "y: Ankle boot\n"
     ]
    }
   ],
   "source": [
    "# Get the value on location row 0, column 0 (Notice that index starts at 0.)\n",
    "\n",
    "print('y:', data_name.iloc[0, 0])"
   ]
  },
  {
   "cell_type": "markdown",
   "id": "b8964e87",
   "metadata": {
    "papermill": {
     "duration": 0.046918,
     "end_time": "2022-02-24T13:03:03.254149",
     "exception": false,
     "start_time": "2022-02-24T13:03:03.207231",
     "status": "completed"
    },
    "tags": []
   },
   "source": [
    "Similarly, You can obtain the file name of the second image file and class type:\n"
   ]
  },
  {
   "cell_type": "code",
   "execution_count": 11,
   "id": "abcb2b0e",
   "metadata": {
    "execution": {
     "iopub.execute_input": "2022-02-24T13:03:03.353941Z",
     "iopub.status.busy": "2022-02-24T13:03:03.353371Z",
     "iopub.status.idle": "2022-02-24T13:03:03.356166Z",
     "shell.execute_reply": "2022-02-24T13:03:03.356622Z",
     "shell.execute_reply.started": "2022-02-24T12:31:17.753646Z"
    },
    "papermill": {
     "duration": 0.055219,
     "end_time": "2022-02-24T13:03:03.356788",
     "exception": false,
     "start_time": "2022-02-24T13:03:03.301569",
     "status": "completed"
    },
    "tags": []
   },
   "outputs": [
    {
     "name": "stdout",
     "output_type": "stream",
     "text": [
      "File name: img/fashion1.png\n",
      "class or y: T-shirt\n"
     ]
    }
   ],
   "source": [
    "# Print out the file name and the class number of the element on row 1 (the second row)\n",
    "\n",
    "print('File name:', data_name.iloc[1, 1])\n",
    "print('class or y:', data_name.iloc[1, 0])"
   ]
  },
  {
   "cell_type": "markdown",
   "id": "5caf4d65",
   "metadata": {
    "papermill": {
     "duration": 0.048581,
     "end_time": "2022-02-24T13:03:03.452490",
     "exception": false,
     "start_time": "2022-02-24T13:03:03.403909",
     "status": "completed"
    },
    "tags": []
   },
   "source": [
    "The number of samples corresponds to the number of rows in a dataframe. You can obtain the number of rows using the following lines of code. This will correspond the data attribute <code>len</code>.\n"
   ]
  },
  {
   "cell_type": "code",
   "execution_count": 12,
   "id": "b0d53ff4",
   "metadata": {
    "execution": {
     "iopub.execute_input": "2022-02-24T13:03:03.551406Z",
     "iopub.status.busy": "2022-02-24T13:03:03.550842Z",
     "iopub.status.idle": "2022-02-24T13:03:03.554407Z",
     "shell.execute_reply": "2022-02-24T13:03:03.554794Z",
     "shell.execute_reply.started": "2022-02-24T12:31:24.706390Z"
    },
    "papermill": {
     "duration": 0.05527,
     "end_time": "2022-02-24T13:03:03.554949",
     "exception": false,
     "start_time": "2022-02-24T13:03:03.499679",
     "status": "completed"
    },
    "tags": []
   },
   "outputs": [
    {
     "name": "stdout",
     "output_type": "stream",
     "text": [
      "The number of rows:  60000\n"
     ]
    }
   ],
   "source": [
    "# Print out the total number of rows in traing dataset\n",
    "\n",
    "print('The number of rows: ', data_name.shape[0])"
   ]
  },
  {
   "cell_type": "markdown",
   "id": "3090841a",
   "metadata": {
    "papermill": {
     "duration": 0.049054,
     "end_time": "2022-02-24T13:03:03.651926",
     "exception": false,
     "start_time": "2022-02-24T13:03:03.602872",
     "status": "completed"
    },
    "tags": []
   },
   "source": [
    "<h2 id=\"load_image\">Load Image</h2>\n"
   ]
  },
  {
   "cell_type": "markdown",
   "id": "47fff045",
   "metadata": {
    "papermill": {
     "duration": 0.049511,
     "end_time": "2022-02-24T13:03:03.749440",
     "exception": false,
     "start_time": "2022-02-24T13:03:03.699929",
     "status": "completed"
    },
    "tags": []
   },
   "source": [
    "To load the image, you need the directory and the image name. You can concatenate the variable <code>train_data_dir</code> with the name of the image stored in a Dataframe. Finally, you will store the result in the variable <code>image_name</code>\n"
   ]
  },
  {
   "cell_type": "code",
   "execution_count": 13,
   "id": "8e44ca1f",
   "metadata": {
    "execution": {
     "iopub.execute_input": "2022-02-24T13:03:03.852067Z",
     "iopub.status.busy": "2022-02-24T13:03:03.851441Z",
     "iopub.status.idle": "2022-02-24T13:03:03.853961Z",
     "shell.execute_reply": "2022-02-24T13:03:03.854495Z",
     "shell.execute_reply.started": "2022-02-24T12:31:41.225175Z"
    },
    "papermill": {
     "duration": 0.056273,
     "end_time": "2022-02-24T13:03:03.854654",
     "exception": false,
     "start_time": "2022-02-24T13:03:03.798381",
     "status": "completed"
    },
    "tags": []
   },
   "outputs": [
    {
     "data": {
      "text/plain": [
       "'img/fashion1.png'"
      ]
     },
     "execution_count": 13,
     "metadata": {},
     "output_type": "execute_result"
    }
   ],
   "source": [
    "# Combine the directory path with file name\n",
    "\n",
    "image_name =data_name.iloc[1, 1]\n",
    "image_name"
   ]
  },
  {
   "cell_type": "markdown",
   "id": "745b7b84",
   "metadata": {
    "papermill": {
     "duration": 0.047736,
     "end_time": "2022-02-24T13:03:03.950990",
     "exception": false,
     "start_time": "2022-02-24T13:03:03.903254",
     "status": "completed"
    },
    "tags": []
   },
   "source": [
    "we can find the image path:\n"
   ]
  },
  {
   "cell_type": "code",
   "execution_count": 14,
   "id": "6b923e8e",
   "metadata": {
    "execution": {
     "iopub.execute_input": "2022-02-24T13:03:04.053039Z",
     "iopub.status.busy": "2022-02-24T13:03:04.052449Z",
     "iopub.status.idle": "2022-02-24T13:03:04.058474Z",
     "shell.execute_reply": "2022-02-24T13:03:04.057995Z",
     "shell.execute_reply.started": "2022-02-24T12:31:54.105917Z"
    },
    "papermill": {
     "duration": 0.057798,
     "end_time": "2022-02-24T13:03:04.058602",
     "exception": false,
     "start_time": "2022-02-24T13:03:04.000804",
     "status": "completed"
    },
    "tags": []
   },
   "outputs": [
    {
     "data": {
      "text/plain": [
       "'img/fashion1.png'"
      ]
     },
     "execution_count": 14,
     "metadata": {},
     "output_type": "execute_result"
    }
   ],
   "source": [
    "image_path=os.path.join(directory,image_name)\n",
    "image_path"
   ]
  },
  {
   "cell_type": "markdown",
   "id": "f452d490",
   "metadata": {
    "papermill": {
     "duration": 0.04771,
     "end_time": "2022-02-24T13:03:04.154579",
     "exception": false,
     "start_time": "2022-02-24T13:03:04.106869",
     "status": "completed"
    },
    "tags": []
   },
   "source": [
    "You can then use the function <code>Image.open</code> to store the image to the variable <code>image</code> and display the image and class .\n"
   ]
  },
  {
   "cell_type": "code",
   "execution_count": 15,
   "id": "ee122628",
   "metadata": {
    "execution": {
     "iopub.execute_input": "2022-02-24T13:03:04.254470Z",
     "iopub.status.busy": "2022-02-24T13:03:04.253911Z",
     "iopub.status.idle": "2022-02-24T13:03:04.462650Z",
     "shell.execute_reply": "2022-02-24T13:03:04.461406Z",
     "shell.execute_reply.started": "2022-02-24T12:32:32.106084Z"
    },
    "papermill": {
     "duration": 0.260157,
     "end_time": "2022-02-24T13:03:04.462874",
     "exception": false,
     "start_time": "2022-02-24T13:03:04.202717",
     "status": "completed"
    },
    "tags": []
   },
   "outputs": [
    {
     "data": {
      "image/png": "[encoded data removed]",
      "text/plain": [
       "<Figure size 432x288 with 1 Axes>"
      ]
     },
     "metadata": {
      "needs_background": "light"
     },
     "output_type": "display_data"
    }
   ],
   "source": [
    "# Plot the second training image\n",
    "\n",
    "image = Image.open(image_path)\n",
    "plt.imshow(image,cmap='gray', vmin=0, vmax=255)\n",
    "plt.title(data_name.iloc[1, 0])\n",
    "plt.show()"
   ]
  },
  {
   "cell_type": "markdown",
   "id": "6d204432",
   "metadata": {
    "papermill": {
     "duration": 0.050256,
     "end_time": "2022-02-24T13:03:04.582278",
     "exception": false,
     "start_time": "2022-02-24T13:03:04.532022",
     "status": "completed"
    },
    "tags": []
   },
   "source": [
    "You can repeat the process for the 20th image.\n"
   ]
  },
  {
   "cell_type": "code",
   "execution_count": 16,
   "id": "0bdfb642",
   "metadata": {
    "execution": {
     "iopub.execute_input": "2022-02-24T13:03:04.686232Z",
     "iopub.status.busy": "2022-02-24T13:03:04.685345Z",
     "iopub.status.idle": "2022-02-24T13:03:04.847507Z",
     "shell.execute_reply": "2022-02-24T13:03:04.847918Z",
     "shell.execute_reply.started": "2022-02-24T12:33:06.706450Z"
    },
    "papermill": {
     "duration": 0.216862,
     "end_time": "2022-02-24T13:03:04.848104",
     "exception": false,
     "start_time": "2022-02-24T13:03:04.631242",
     "status": "completed"
    },
    "tags": []
   },
   "outputs": [
    {
     "data": {
      "image/png": "[encoded data removed]",
      "text/plain": [
       "<Figure size 432x288 with 1 Axes>"
      ]
     },
     "metadata": {
      "needs_background": "light"
     },
     "output_type": "display_data"
    }
   ],
   "source": [
    "# Plot the 20th image\n",
    "\n",
    "image_name = data_name.iloc[19, 1]\n",
    "image_path=os.path.join(directory,image_name)\n",
    "image = Image.open(image_path)\n",
    "plt.imshow(image,cmap='gray', vmin=0, vmax=255)\n",
    "plt.title(data_name.iloc[19, 0])\n",
    "plt.show()"
   ]
  },
  {
   "cell_type": "markdown",
   "id": "41064504",
   "metadata": {
    "papermill": {
     "duration": 0.049365,
     "end_time": "2022-02-24T13:03:04.948154",
     "exception": false,
     "start_time": "2022-02-24T13:03:04.898789",
     "status": "completed"
    },
    "tags": []
   },
   "source": [
    "<hr>\n"
   ]
  },
  {
   "cell_type": "markdown",
   "id": "67464587",
   "metadata": {
    "papermill": {
     "duration": 0.049568,
     "end_time": "2022-02-24T13:03:05.047117",
     "exception": false,
     "start_time": "2022-02-24T13:03:04.997549",
     "status": "completed"
    },
    "tags": []
   },
   "source": [
    "Create the dataset object.\n"
   ]
  },
  {
   "cell_type": "markdown",
   "id": "edd393f1",
   "metadata": {
    "papermill": {
     "duration": 0.048995,
     "end_time": "2022-02-24T13:03:05.146076",
     "exception": false,
     "start_time": "2022-02-24T13:03:05.097081",
     "status": "completed"
    },
    "tags": []
   },
   "source": [
    "<h2 id=\"data_class\">Create a Dataset Class</h2>\n"
   ]
  },
  {
   "cell_type": "markdown",
   "id": "e9541a6a",
   "metadata": {
    "papermill": {
     "duration": 0.049174,
     "end_time": "2022-02-24T13:03:05.245140",
     "exception": false,
     "start_time": "2022-02-24T13:03:05.195966",
     "status": "completed"
    },
    "tags": []
   },
   "source": [
    "In this section, we will use the components in the last section to build a dataset class and then create an object.\n"
   ]
  },
  {
   "cell_type": "code",
   "execution_count": 17,
   "id": "1f3bc01d",
   "metadata": {
    "execution": {
     "iopub.execute_input": "2022-02-24T13:03:05.352353Z",
     "iopub.status.busy": "2022-02-24T13:03:05.351572Z",
     "iopub.status.idle": "2022-02-24T13:03:05.354083Z",
     "shell.execute_reply": "2022-02-24T13:03:05.353633Z",
     "shell.execute_reply.started": "2022-02-24T12:38:17.428975Z"
    },
    "papermill": {
     "duration": 0.059406,
     "end_time": "2022-02-24T13:03:05.354223",
     "exception": false,
     "start_time": "2022-02-24T13:03:05.294817",
     "status": "completed"
    },
    "tags": []
   },
   "outputs": [],
   "source": [
    "# Create your own dataset object\n",
    "\n",
    "class Dataset(Dataset):\n",
    "\n",
    "    # Constructor\n",
    "    def __init__(self, csv_file, data_dir, transform=None):\n",
    "        \n",
    "        # Image directory\n",
    "        self.data_dir=data_dir\n",
    "        \n",
    "        # The transform is goint to be used on image\n",
    "        self.transform = transform\n",
    "        data_dircsv_file=os.path.join(self.data_dir,csv_file)\n",
    "        # Load the CSV file contians image info\n",
    "        self.data_name= pd.read_csv(data_dircsv_file)\n",
    "        \n",
    "        # Number of images in dataset\n",
    "        self.len=self.data_name.shape[0] \n",
    "    \n",
    "    # Get the length\n",
    "    def __len__(self):\n",
    "        return self.len\n",
    "    \n",
    "    # Getter\n",
    "    def __getitem__(self, idx):\n",
    "        \n",
    "        # Image file path\n",
    "        img_name=os.path.join(self.data_dir,self.data_name.iloc[idx, 1])\n",
    "        # Open image file\n",
    "        image = Image.open(img_name)\n",
    "        \n",
    "        # The class label for the image\n",
    "        y = self.data_name.iloc[idx, 0]\n",
    "        \n",
    "        # If there is any transform method, apply it onto the image\n",
    "        if self.transform:\n",
    "            image = self.transform(image)\n",
    "\n",
    "        return image, y"
   ]
  },
  {
   "cell_type": "code",
   "execution_count": 18,
   "id": "75128575",
   "metadata": {
    "execution": {
     "iopub.execute_input": "2022-02-24T13:03:05.457799Z",
     "iopub.status.busy": "2022-02-24T13:03:05.457238Z",
     "iopub.status.idle": "2022-02-24T13:03:05.506785Z",
     "shell.execute_reply": "2022-02-24T13:03:05.506308Z",
     "shell.execute_reply.started": "2022-02-24T12:38:25.987444Z"
    },
    "papermill": {
     "duration": 0.10221,
     "end_time": "2022-02-24T13:03:05.506932",
     "exception": false,
     "start_time": "2022-02-24T13:03:05.404722",
     "status": "completed"
    },
    "tags": []
   },
   "outputs": [],
   "source": [
    "# Create the dataset objects\n",
    "\n",
    "dataset = Dataset(csv_file=csv_file, data_dir=directory)"
   ]
  },
  {
   "cell_type": "markdown",
   "id": "431472fc",
   "metadata": {
    "papermill": {
     "duration": 0.049216,
     "end_time": "2022-02-24T13:03:05.605922",
     "exception": false,
     "start_time": "2022-02-24T13:03:05.556706",
     "status": "completed"
    },
    "tags": []
   },
   "source": [
    "Each sample of the image and the class y is stored in a tuple <code> dataset\\[sample]</code> . The image is the first element in the tuple <code> dataset\\[sample]\\[0]</code> the label or class is the second element in the tuple <code> dataset\\[sample]\\[1]</code>. For example you can plot the first image and class.\n"
   ]
  },
  {
   "cell_type": "code",
   "execution_count": 19,
   "id": "1b6634a5",
   "metadata": {
    "execution": {
     "iopub.execute_input": "2022-02-24T13:03:05.709965Z",
     "iopub.status.busy": "2022-02-24T13:03:05.707607Z",
     "iopub.status.idle": "2022-02-24T13:03:05.874784Z",
     "shell.execute_reply": "2022-02-24T13:03:05.875373Z",
     "shell.execute_reply.started": "2022-02-24T12:39:05.186521Z"
    },
    "papermill": {
     "duration": 0.220435,
     "end_time": "2022-02-24T13:03:05.875545",
     "exception": false,
     "start_time": "2022-02-24T13:03:05.655110",
     "status": "completed"
    },
    "tags": []
   },
   "outputs": [
    {
     "data": {
      "image/png": "[encoded data removed]",
      "text/plain": [
       "<Figure size 432x288 with 1 Axes>"
      ]
     },
     "metadata": {
      "needs_background": "light"
     },
     "output_type": "display_data"
    }
   ],
   "source": [
    "image=dataset[0][0]\n",
    "y=dataset[0][1]\n",
    "\n",
    "plt.imshow(image,cmap='gray', vmin=0, vmax=255)\n",
    "plt.title(y)\n",
    "plt.show()"
   ]
  },
  {
   "cell_type": "code",
   "execution_count": 20,
   "id": "2c85c955",
   "metadata": {
    "execution": {
     "iopub.execute_input": "2022-02-24T13:03:05.982178Z",
     "iopub.status.busy": "2022-02-24T13:03:05.981538Z",
     "iopub.status.idle": "2022-02-24T13:03:05.989500Z",
     "shell.execute_reply": "2022-02-24T13:03:05.989933Z",
     "shell.execute_reply.started": "2022-02-24T12:42:22.826190Z"
    },
    "papermill": {
     "duration": 0.063161,
     "end_time": "2022-02-24T13:03:05.990129",
     "exception": false,
     "start_time": "2022-02-24T13:03:05.926968",
     "status": "completed"
    },
    "tags": []
   },
   "outputs": [
    {
     "name": "stderr",
     "output_type": "stream",
     "text": [
      "/opt/conda/lib/python3.7/site-packages/numpy/core/_asarray.py:102: FutureWarning: The input object of type 'PngImageFile' is an array-like implementing one of the corresponding protocols (`__array__`, `__array_interface__` or `__array_struct__`); but not a sequence (or 0-D). In the future, this object will be coerced as if it was first converted using `np.array(obj)`. To retain the old behaviour, you have to either modify the type 'PngImageFile', or assign to an empty array created with `np.empty(correct_shape, dtype=object)`.\n",
      "  return array(a, dtype, copy=False, order=order)\n"
     ]
    },
    {
     "data": {
      "text/plain": [
       "(2,)"
      ]
     },
     "execution_count": 20,
     "metadata": {},
     "output_type": "execute_result"
    }
   ],
   "source": [
    "np.shape(dataset[0])"
   ]
  },
  {
   "cell_type": "markdown",
   "id": "fe24071f",
   "metadata": {
    "papermill": {
     "duration": 0.050772,
     "end_time": "2022-02-24T13:03:06.091754",
     "exception": false,
     "start_time": "2022-02-24T13:03:06.040982",
     "status": "completed"
    },
    "tags": []
   },
   "source": [
    "Similarly, you can plot the second image:\n"
   ]
  },
  {
   "cell_type": "code",
   "execution_count": 21,
   "id": "0c340041",
   "metadata": {
    "execution": {
     "iopub.execute_input": "2022-02-24T13:03:06.196661Z",
     "iopub.status.busy": "2022-02-24T13:03:06.196073Z",
     "iopub.status.idle": "2022-02-24T13:03:06.364499Z",
     "shell.execute_reply": "2022-02-24T13:03:06.363775Z",
     "shell.execute_reply.started": "2022-02-24T12:39:46.505982Z"
    },
    "papermill": {
     "duration": 0.221863,
     "end_time": "2022-02-24T13:03:06.364642",
     "exception": false,
     "start_time": "2022-02-24T13:03:06.142779",
     "status": "completed"
    },
    "tags": []
   },
   "outputs": [
    {
     "data": {
      "image/png": "[encoded data removed]",
      "text/plain": [
       "<Figure size 432x288 with 1 Axes>"
      ]
     },
     "metadata": {
      "needs_background": "light"
     },
     "output_type": "display_data"
    }
   ],
   "source": [
    "image=dataset[2][0]\n",
    "y=dataset[2][1]\n",
    "\n",
    "plt.imshow(image,cmap='gray', vmin=0, vmax=255)\n",
    "plt.title(y)\n",
    "plt.show()"
   ]
  },
  {
   "cell_type": "markdown",
   "id": "6bb7d18c",
   "metadata": {
    "papermill": {
     "duration": 0.051127,
     "end_time": "2022-02-24T13:03:06.468020",
     "exception": false,
     "start_time": "2022-02-24T13:03:06.416893",
     "status": "completed"
    },
    "tags": []
   },
   "source": [
    "<h2 id=\"Torchvision\"> Torchvision Transforms  </h2>\n"
   ]
  },
  {
   "cell_type": "markdown",
   "id": "89bcd510",
   "metadata": {
    "papermill": {
     "duration": 0.051409,
     "end_time": "2022-02-24T13:03:06.571387",
     "exception": false,
     "start_time": "2022-02-24T13:03:06.519978",
     "status": "completed"
    },
    "tags": []
   },
   "source": [
    "You will focus on the following libraries:\n"
   ]
  },
  {
   "cell_type": "code",
   "execution_count": 22,
   "id": "84bbabdc",
   "metadata": {
    "execution": {
     "iopub.execute_input": "2022-02-24T13:03:06.679121Z",
     "iopub.status.busy": "2022-02-24T13:03:06.678523Z",
     "iopub.status.idle": "2022-02-24T13:03:06.882958Z",
     "shell.execute_reply": "2022-02-24T13:03:06.882342Z",
     "shell.execute_reply.started": "2022-02-24T12:42:51.306407Z"
    },
    "papermill": {
     "duration": 0.25987,
     "end_time": "2022-02-24T13:03:06.883150",
     "exception": false,
     "start_time": "2022-02-24T13:03:06.623280",
     "status": "completed"
    },
    "tags": []
   },
   "outputs": [],
   "source": [
    "import torchvision.transforms as transforms"
   ]
  },
  {
   "cell_type": "markdown",
   "id": "d6dfb9bc",
   "metadata": {
    "papermill": {
     "duration": 0.052272,
     "end_time": "2022-02-24T13:03:06.988279",
     "exception": false,
     "start_time": "2022-02-24T13:03:06.936007",
     "status": "completed"
    },
    "tags": []
   },
   "source": [
    "We can apply some image transform functions on the dataset object. The iamge can be cropped and converted to a tensor. We can use <code>transform.Compose</code> we learned from the previous lab to combine the two transform functions.\n"
   ]
  },
  {
   "cell_type": "code",
   "execution_count": 23,
   "id": "88ab23d1",
   "metadata": {
    "execution": {
     "iopub.execute_input": "2022-02-24T13:03:07.098350Z",
     "iopub.status.busy": "2022-02-24T13:03:07.097683Z",
     "iopub.status.idle": "2022-02-24T13:03:07.191506Z",
     "shell.execute_reply": "2022-02-24T13:03:07.190882Z",
     "shell.execute_reply.started": "2022-02-24T12:43:23.888030Z"
    },
    "papermill": {
     "duration": 0.149261,
     "end_time": "2022-02-24T13:03:07.191643",
     "exception": false,
     "start_time": "2022-02-24T13:03:07.042382",
     "status": "completed"
    },
    "tags": []
   },
   "outputs": [
    {
     "name": "stdout",
     "output_type": "stream",
     "text": [
      "The shape of the first element tensor:  torch.Size([1, 20, 20])\n"
     ]
    }
   ],
   "source": [
    "# Combine two transforms: crop and convert to tensor. Apply the compose to MNIST dataset\n",
    "\n",
    "croptensor_data_transform = transforms.Compose([transforms.CenterCrop(20), transforms.ToTensor()])\n",
    "dataset = Dataset(csv_file=csv_file , data_dir=directory,transform=croptensor_data_transform )\n",
    "print(\"The shape of the first element tensor: \", dataset[0][0].shape)\n"
   ]
  },
  {
   "cell_type": "markdown",
   "id": "914f80d0",
   "metadata": {
    "papermill": {
     "duration": 0.052611,
     "end_time": "2022-02-24T13:03:07.297016",
     "exception": false,
     "start_time": "2022-02-24T13:03:07.244405",
     "status": "completed"
    },
    "tags": []
   },
   "source": [
    "We can see the image is now 20 x 20\n"
   ]
  },
  {
   "cell_type": "markdown",
   "id": "ce5ebdeb",
   "metadata": {
    "papermill": {
     "duration": 0.05202,
     "end_time": "2022-02-24T13:03:07.401525",
     "exception": false,
     "start_time": "2022-02-24T13:03:07.349505",
     "status": "completed"
    },
    "tags": []
   },
   "source": [
    "<!--Empty Space for separating topics-->\n"
   ]
  },
  {
   "cell_type": "markdown",
   "id": "f7dc3a3f",
   "metadata": {
    "papermill": {
     "duration": 0.051945,
     "end_time": "2022-02-24T13:03:07.505601",
     "exception": false,
     "start_time": "2022-02-24T13:03:07.453656",
     "status": "completed"
    },
    "tags": []
   },
   "source": [
    "Let us plot the first image again. Notice we see less of the shoe.\n"
   ]
  },
  {
   "cell_type": "code",
   "execution_count": 24,
   "id": "8bd8e3ad",
   "metadata": {
    "execution": {
     "iopub.execute_input": "2022-02-24T13:03:07.614437Z",
     "iopub.status.busy": "2022-02-24T13:03:07.613777Z",
     "iopub.status.idle": "2022-02-24T13:03:07.801737Z",
     "shell.execute_reply": "2022-02-24T13:03:07.801264Z",
     "shell.execute_reply.started": "2022-02-24T12:46:57.083243Z"
    },
    "papermill": {
     "duration": 0.244033,
     "end_time": "2022-02-24T13:03:07.801873",
     "exception": false,
     "start_time": "2022-02-24T13:03:07.557840",
     "status": "completed"
    },
    "tags": []
   },
   "outputs": [
    {
     "data": {
      "image/png": "[encoded data removed]",
      "text/plain": [
       "<Figure size 432x288 with 1 Axes>"
      ]
     },
     "metadata": {
      "needs_background": "light"
     },
     "output_type": "display_data"
    }
   ],
   "source": [
    "# Plot the first element in the dataset\n",
    "\n",
    "show_data(dataset[0],shape = (20, 20))"
   ]
  },
  {
   "cell_type": "code",
   "execution_count": 25,
   "id": "dc05caee",
   "metadata": {
    "execution": {
     "iopub.execute_input": "2022-02-24T13:03:07.912109Z",
     "iopub.status.busy": "2022-02-24T13:03:07.910379Z",
     "iopub.status.idle": "2022-02-24T13:03:08.045211Z",
     "shell.execute_reply": "2022-02-24T13:03:08.045637Z",
     "shell.execute_reply.started": "2022-02-24T12:47:18.723470Z"
    },
    "papermill": {
     "duration": 0.191268,
     "end_time": "2022-02-24T13:03:08.045804",
     "exception": false,
     "start_time": "2022-02-24T13:03:07.854536",
     "status": "completed"
    },
    "tags": []
   },
   "outputs": [
    {
     "data": {
      "image/png": "[encoded data removed]",
      "text/plain": [
       "<Figure size 432x288 with 1 Axes>"
      ]
     },
     "metadata": {
      "needs_background": "light"
     },
     "output_type": "display_data"
    }
   ],
   "source": [
    "# Plot the second element in the dataset\n",
    "\n",
    "show_data(dataset[1],shape = (20, 20))"
   ]
  },
  {
   "cell_type": "markdown",
   "id": "75f3af5a",
   "metadata": {
    "papermill": {
     "duration": 0.05268,
     "end_time": "2022-02-24T13:03:08.151596",
     "exception": false,
     "start_time": "2022-02-24T13:03:08.098916",
     "status": "completed"
    },
    "tags": []
   },
   "source": [
    "In the below example, we Vertically flip the image, and then convert it to a tensor. Use <code>transforms.Compose()</code> to combine these two transform functions. Plot the flipped image.\n"
   ]
  },
  {
   "cell_type": "code",
   "execution_count": 26,
   "id": "c28e89fd",
   "metadata": {
    "execution": {
     "iopub.execute_input": "2022-02-24T13:03:08.260639Z",
     "iopub.status.busy": "2022-02-24T13:03:08.260066Z",
     "iopub.status.idle": "2022-02-24T13:03:08.509798Z",
     "shell.execute_reply": "2022-02-24T13:03:08.509219Z",
     "shell.execute_reply.started": "2022-02-24T12:49:43.723719Z"
    },
    "papermill": {
     "duration": 0.305399,
     "end_time": "2022-02-24T13:03:08.509933",
     "exception": false,
     "start_time": "2022-02-24T13:03:08.204534",
     "status": "completed"
    },
    "tags": []
   },
   "outputs": [
    {
     "data": {
      "image/png": "[encoded data removed]",
      "text/plain": [
       "<Figure size 432x288 with 1 Axes>"
      ]
     },
     "metadata": {
      "needs_background": "light"
     },
     "output_type": "display_data"
    }
   ],
   "source": [
    "# Construct the compose. Apply it on MNIST dataset. Plot the image out.\n",
    "\n",
    "fliptensor_data_transform = transforms.Compose([transforms.RandomVerticalFlip(p=1),transforms.ToTensor()])\n",
    "dataset = Dataset(csv_file=csv_file , data_dir=directory,transform=fliptensor_data_transform )\n",
    "show_data(dataset[1])"
   ]
  },
  {
   "cell_type": "markdown",
   "id": "5cd61e0e",
   "metadata": {
    "papermill": {
     "duration": 0.053479,
     "end_time": "2022-02-24T13:03:08.617028",
     "exception": false,
     "start_time": "2022-02-24T13:03:08.563549",
     "status": "completed"
    },
    "tags": []
   },
   "source": [
    "<!--Empty Space for separating topics-->\n"
   ]
  },
  {
   "cell_type": "markdown",
   "id": "d022b09d",
   "metadata": {
    "papermill": {
     "duration": 0.053603,
     "end_time": "2022-02-24T13:03:08.724384",
     "exception": false,
     "start_time": "2022-02-24T13:03:08.670781",
     "status": "completed"
    },
    "tags": []
   },
   "source": [
    "<h3>Practice</h3>\n"
   ]
  },
  {
   "cell_type": "markdown",
   "id": "d1c2b0e2",
   "metadata": {
    "papermill": {
     "duration": 0.053809,
     "end_time": "2022-02-24T13:03:08.831820",
     "exception": false,
     "start_time": "2022-02-24T13:03:08.778011",
     "status": "completed"
    },
    "tags": []
   },
   "source": [
    "Try to use the <code>RandomVerticalFlip</code> (vertically flip the image) with horizontally flip and convert to tensor as a compose. Apply the compose on image. Use <code>show_data()</code> to plot the second image (the image as <b>2</b>).\n"
   ]
  },
  {
   "cell_type": "code",
   "execution_count": 27,
   "id": "631e6586",
   "metadata": {
    "execution": {
     "iopub.execute_input": "2022-02-24T13:03:08.947973Z",
     "iopub.status.busy": "2022-02-24T13:03:08.947323Z",
     "iopub.status.idle": "2022-02-24T13:03:09.180863Z",
     "shell.execute_reply": "2022-02-24T13:03:09.181377Z",
     "shell.execute_reply.started": "2022-02-24T13:02:12.551806Z"
    },
    "papermill": {
     "duration": 0.294404,
     "end_time": "2022-02-24T13:03:09.181550",
     "exception": false,
     "start_time": "2022-02-24T13:03:08.887146",
     "status": "completed"
    },
    "tags": []
   },
   "outputs": [
    {
     "data": {
      "image/png": "[encoded data removed]",
      "text/plain": [
       "<Figure size 432x288 with 1 Axes>"
      ]
     },
     "metadata": {
      "needs_background": "light"
     },
     "output_type": "display_data"
    }
   ],
   "source": [
    "# Practice: Combine vertical flip, horizontal flip and convert to tensor as a compose. Apply the compose on image. Then plot the image\n",
    "\n",
    "\n",
    "VerticalHorizontalTransform = transforms.Compose([transforms.RandomVerticalFlip(p=1),transforms.RandomHorizontalFlip(p=1),transforms.ToTensor()]);\n",
    "\n",
    "twoFlips_Data = Dataset(csv_file = csv_file,data_dir=directory,transform=VerticalHorizontalTransform);\n",
    "\n",
    "show_data(twoFlips_Data[1])\n",
    "\n",
    "# Type your code here"
   ]
  },
  {
   "cell_type": "markdown",
   "id": "e41892ab",
   "metadata": {
    "papermill": {
     "duration": 0.054785,
     "end_time": "2022-02-24T13:03:09.290738",
     "exception": false,
     "start_time": "2022-02-24T13:03:09.235953",
     "status": "completed"
    },
    "tags": []
   },
   "source": [
    "Double-click **here** for the solution.\n",
    "\n",
    "<!-- \n",
    "my_data_transform = transforms.Compose([transforms.RandomVerticalFlip(p = 1), transforms.RandomHorizontalFlip(p = 1), transforms.ToTensor()])\n",
    "dataset = Dataset(csv_file=csv_file , data_dir=directory,transform=fliptensor_data_transform )\n",
    "show_data(dataset[1])\n",
    " -->\n"
   ]
  },
  {
   "cell_type": "markdown",
   "id": "2643e3f8",
   "metadata": {
    "papermill": {
     "duration": 0.055632,
     "end_time": "2022-02-24T13:03:09.401181",
     "exception": false,
     "start_time": "2022-02-24T13:03:09.345549",
     "status": "completed"
    },
    "tags": []
   },
   "source": [
    "<a href=\"https://dataplatform.cloud.ibm.com/registration/stepone?utm_medium=Exinfluencer&utm_source=Exinfluencer&utm_content=000026UJ&utm_term=10006555&utm_id=NA-SkillsNetwork-Channel-SkillsNetworkCoursesIBMDeveloperSkillsNetworkDL0110ENSkillsNetwork20647811-2021-01-01&context=cpdaas&apps=data_science_experience%2Cwatson_machine_learning\"><img src=\"https://cf-courses-data.s3.us.cloud-object-storage.appdomain.cloud/IBMDeveloperSkillsNetwork-DL0110EN-SkillsNetwork/Template/module%201/images/Watson_Studio.png\"/></a>\n"
   ]
  },
  {
   "cell_type": "markdown",
   "id": "949707ab",
   "metadata": {
    "papermill": {
     "duration": 0.054344,
     "end_time": "2022-02-24T13:03:09.510555",
     "exception": false,
     "start_time": "2022-02-24T13:03:09.456211",
     "status": "completed"
    },
    "tags": []
   },
   "source": [
    "<!--Empty Space for separating topics-->\n"
   ]
  },
  {
   "cell_type": "markdown",
   "id": "a114843f",
   "metadata": {
    "papermill": {
     "duration": 0.053805,
     "end_time": "2022-02-24T13:03:09.619352",
     "exception": false,
     "start_time": "2022-02-24T13:03:09.565547",
     "status": "completed"
    },
    "tags": []
   },
   "source": [
    "<h2>About the Authors:</h2> \n",
    "\n",
    "<a href=\"https://www.linkedin.com/in/joseph-s-50398b136/?utm_medium=Exinfluencer&utm_source=Exinfluencer&utm_content=000026UJ&utm_term=10006555&utm_id=NA-SkillsNetwork-Channel-SkillsNetworkCoursesIBMDeveloperSkillsNetworkDL0110ENSkillsNetwork20647811-2021-01-01\">Joseph Santarcangelo</a> has a PhD in Electrical Engineering, his research focused on using machine learning, signal processing, and computer vision to determine how videos impact human cognition. Joseph has been working for IBM since he completed his PhD.\n"
   ]
  },
  {
   "cell_type": "markdown",
   "id": "ce05aa7e",
   "metadata": {
    "papermill": {
     "duration": 0.053942,
     "end_time": "2022-02-24T13:03:09.727629",
     "exception": false,
     "start_time": "2022-02-24T13:03:09.673687",
     "status": "completed"
    },
    "tags": []
   },
   "source": [
    "Other contributors: <a href=\"https://www.linkedin.com/in/michelleccarey/?utm_medium=Exinfluencer&utm_source=Exinfluencer&utm_content=000026UJ&utm_term=10006555&utm_id=NA-SkillsNetwork-Channel-SkillsNetworkCoursesIBMDeveloperSkillsNetworkDL0110ENSkillsNetwork20647811-2021-01-01\">Michelle Carey</a>, <a href=\"https://www.linkedin.com/in/jiahui-mavis-zhou-a4537814a?utm_medium=Exinfluencer&utm_source=Exinfluencer&utm_content=000026UJ&utm_term=10006555&utm_id=NA-SkillsNetwork-Channel-SkillsNetworkCoursesIBMDeveloperSkillsNetworkDL0110ENSkillsNetwork20647811-2021-01-01\">Mavis Zhou</a>\n"
   ]
  },
  {
   "cell_type": "markdown",
   "id": "1ee755b2",
   "metadata": {
    "papermill": {
     "duration": 0.054212,
     "end_time": "2022-02-24T13:03:09.836087",
     "exception": false,
     "start_time": "2022-02-24T13:03:09.781875",
     "status": "completed"
    },
    "tags": []
   },
   "source": [
    "## Change Log\n",
    "\n",
    "| Date (YYYY-MM-DD) | Version | Changed By | Change Description                                          |\n",
    "| ----------------- | ------- | ---------- | ----------------------------------------------------------- |\n",
    "| 2020-09-21        | 2.0     | Shubham    | Migrated Lab to Markdown and added to course repo in GitLab |\n"
   ]
  },
  {
   "cell_type": "markdown",
   "id": "8a88c2f1",
   "metadata": {
    "papermill": {
     "duration": 0.056296,
     "end_time": "2022-02-24T13:03:09.948091",
     "exception": false,
     "start_time": "2022-02-24T13:03:09.891795",
     "status": "completed"
    },
    "tags": []
   },
   "source": [
    "<hr>\n"
   ]
  },
  {
   "cell_type": "markdown",
   "id": "cbc8338a",
   "metadata": {
    "papermill": {
     "duration": 0.053933,
     "end_time": "2022-02-24T13:03:10.057284",
     "exception": false,
     "start_time": "2022-02-24T13:03:10.003351",
     "status": "completed"
    },
    "tags": []
   },
   "source": [
    "## <h3 align=\"center\"> © IBM Corporation 2020. All rights reserved. <h3/>\n"
   ]
  }
 ],
 "metadata": {
  "kernelspec": {
   "display_name": "Python 3",
   "language": "python",
   "name": "python3"
  },
  "language_info": {
   "codemirror_mode": {
    "name": "ipython",
    "version": 3
   },
   "file_extension": ".py",
   "mimetype": "text/x-python",
   "name": "python",
   "nbconvert_exporter": "python",
   "pygments_lexer": "ipython3",
   "version": "3.7.12"
  },
  "papermill": {
   "default_parameters": {},
   "duration": 28.476162,
   "end_time": "2022-02-24T13:03:10.922403",
   "environment_variables": {},
   "exception": null,
   "input_path": "__notebook__.ipynb",
   "output_path": "__notebook__.ipynb",
   "parameters": {},
   "start_time": "2022-02-24T13:02:42.446241",
   "version": "2.3.3"
  }
 },
 "nbformat": 4,
 "nbformat_minor": 5
}
